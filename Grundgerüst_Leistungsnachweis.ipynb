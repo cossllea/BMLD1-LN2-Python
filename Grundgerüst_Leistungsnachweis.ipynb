{
 "cells": [
  {
   "cell_type": "markdown",
   "id": "2341b96f",
   "metadata": {},
   "source": [
    "# Grundgerüst Leistungsausweis\n",
    "Dieses Notebook soll euch als Grundgerüst für euren Leistungsnachweis dienen. Es soll euch eine Idee/ Hilfestellung bieten, wie man einen neuen Datensatz, basierend auf einer Fragestellung, strukturiert analysieren und interpretieren kann. Wie besagt, dient das Notebook als Hilfestellung, ist jedoch keinenfalls vollständig ausgeschöpft. In diesem Sinne dürft ihr auch gerne Sachen miteinbeziehen, welche hier nicht genannt werden. \n",
    "\n",
    "-> Bitte schreibt die Antwort zu den jeweiligen Punkten an oberster Stelle unterhalb der Titel (so wie dies auch im Leistungsnachweisbeispiel gemacht wurde).\n",
    "\n",
    "\n",
    "## Struktur\n",
    "1. Fragestellung(en) und Datenbeschaffung\n",
    "2. Daten laden\n",
    "3. Daten vorbereiten\n",
    "4. Statistik der Rohdaten (Generell im Longformat)\n",
    "5. Analyse der Daten\n",
    "\n",
    "**Wichtig:** Alle graphischen Darstellungen sollten mindestens *Titel, Ticks- und Achsenbeschriftung* beinhalten (Siehe plots im Leistungsnachweisbeispiel)\n",
    "\n",
    "---"
   ]
  },
  {
   "cell_type": "markdown",
   "id": "f9e9bf68",
   "metadata": {},
   "source": [
    "## 1. Fragestellung(en) und Datenbeschaffung\n",
    "### 1.1 Titel: \n",
    "- \"Gesundheitskosten im Vergleich\"\n",
    "### 1.2 Fragestellung:\n",
    "- \"  1. Gibt es eine inverse Beziehung zwischen öffentlichen Ausgaben und Out-of-Pocket-Ausgaben? \"\n",
    "- \" 2. In welchen Ländern gibt es ein Gleichgewicht oder extreme Unterschiede? \"   \n",
    "### 1.3 Datenquelle(n):\n",
    "Beispiele für mögliche Datenquellen:\n",
    "- https://ourworldindata.org/financing-healthcare\n",
    "\n",
    "\n",
    "\n"
   ]
  },
  {
   "cell_type": "markdown",
   "metadata": {},
   "source": [
    "### 1.4 Daten beschaffen und laden"
   ]
  },
  {
   "cell_type": "code",
   "execution_count": null,
   "id": "a27050af",
   "metadata": {},
   "outputs": [],
   "source": [
    "#  Bibliotheken laden \n",
    "\n",
    "import pandas as pd\n",
    "import seaborn as sns\n",
    "from matplotlib import pyplot as plt"
   ]
  },
  {
   "cell_type": "code",
   "execution_count": 16,
   "id": "47a24830",
   "metadata": {},
   "outputs": [
    {
     "data": {
      "text/html": [
       "<div>\n",
       "<style scoped>\n",
       "    .dataframe tbody tr th:only-of-type {\n",
       "        vertical-align: middle;\n",
       "    }\n",
       "\n",
       "    .dataframe tbody tr th {\n",
       "        vertical-align: top;\n",
       "    }\n",
       "\n",
       "    .dataframe thead th {\n",
       "        text-align: right;\n",
       "    }\n",
       "</style>\n",
       "<table border=\"1\" class=\"dataframe\">\n",
       "  <thead>\n",
       "    <tr style=\"text-align: right;\">\n",
       "      <th></th>\n",
       "      <th>Gebiet</th>\n",
       "      <th>Code1</th>\n",
       "      <th>Jahr</th>\n",
       "      <th>öffentliche Gesundheitsausgaben</th>\n",
       "    </tr>\n",
       "  </thead>\n",
       "  <tbody>\n",
       "    <tr>\n",
       "      <th>0</th>\n",
       "      <td>Albania</td>\n",
       "      <td>ALB</td>\n",
       "      <td>2010</td>\n",
       "      <td>2.442</td>\n",
       "    </tr>\n",
       "    <tr>\n",
       "      <th>1</th>\n",
       "      <td>Albania</td>\n",
       "      <td>ALB</td>\n",
       "      <td>2011</td>\n",
       "      <td>2.387</td>\n",
       "    </tr>\n",
       "    <tr>\n",
       "      <th>2</th>\n",
       "      <td>Albania</td>\n",
       "      <td>ALB</td>\n",
       "      <td>2012</td>\n",
       "      <td>2.474</td>\n",
       "    </tr>\n",
       "    <tr>\n",
       "      <th>3</th>\n",
       "      <td>Albania</td>\n",
       "      <td>ALB</td>\n",
       "      <td>2013</td>\n",
       "      <td>2.605</td>\n",
       "    </tr>\n",
       "    <tr>\n",
       "      <th>4</th>\n",
       "      <td>Albania</td>\n",
       "      <td>ALB</td>\n",
       "      <td>2014</td>\n",
       "      <td>2.617</td>\n",
       "    </tr>\n",
       "  </tbody>\n",
       "</table>\n",
       "</div>"
      ],
      "text/plain": [
       "    Gebiet Code1  Jahr  öffentliche Gesundheitsausgaben\n",
       "0  Albania   ALB  2010                            2.442\n",
       "1  Albania   ALB  2011                            2.387\n",
       "2  Albania   ALB  2012                            2.474\n",
       "3  Albania   ALB  2013                            2.605\n",
       "4  Albania   ALB  2014                            2.617"
      ]
     },
     "execution_count": 16,
     "metadata": {},
     "output_type": "execute_result"
    }
   ],
   "source": [
    "# Datenset 1: Öffentliche Gesundheitsausgaben importieren\n",
    "df1 = pd.read_csv(\"public-health-expenditure-share-gdp.csv\", skiprows=1, \n",
    "                 names=[\"Gebiet\", \"Code1\", \"Jahr\", \"öffentliche Gesundheitsausgaben\"])\n",
    "df1.head()"
   ]
  },
  {
   "cell_type": "code",
   "execution_count": 17,
   "id": "0e1bdacd",
   "metadata": {},
   "outputs": [
    {
     "data": {
      "text/html": [
       "<div>\n",
       "<style scoped>\n",
       "    .dataframe tbody tr th:only-of-type {\n",
       "        vertical-align: middle;\n",
       "    }\n",
       "\n",
       "    .dataframe tbody tr th {\n",
       "        vertical-align: top;\n",
       "    }\n",
       "\n",
       "    .dataframe thead th {\n",
       "        text-align: right;\n",
       "    }\n",
       "</style>\n",
       "<table border=\"1\" class=\"dataframe\">\n",
       "  <thead>\n",
       "    <tr style=\"text-align: right;\">\n",
       "      <th></th>\n",
       "      <th>Gebiet</th>\n",
       "      <th>Code2</th>\n",
       "      <th>Jahr</th>\n",
       "      <th>Selbstgetragene Gesundheitsausgaben</th>\n",
       "    </tr>\n",
       "  </thead>\n",
       "  <tbody>\n",
       "    <tr>\n",
       "      <th>0</th>\n",
       "      <td>Afghanistan</td>\n",
       "      <td>AFG</td>\n",
       "      <td>2002</td>\n",
       "      <td>85.375600</td>\n",
       "    </tr>\n",
       "    <tr>\n",
       "      <th>1</th>\n",
       "      <td>Afghanistan</td>\n",
       "      <td>AFG</td>\n",
       "      <td>2003</td>\n",
       "      <td>86.069190</td>\n",
       "    </tr>\n",
       "    <tr>\n",
       "      <th>2</th>\n",
       "      <td>Afghanistan</td>\n",
       "      <td>AFG</td>\n",
       "      <td>2004</td>\n",
       "      <td>84.527590</td>\n",
       "    </tr>\n",
       "    <tr>\n",
       "      <th>3</th>\n",
       "      <td>Afghanistan</td>\n",
       "      <td>AFG</td>\n",
       "      <td>2005</td>\n",
       "      <td>78.970085</td>\n",
       "    </tr>\n",
       "    <tr>\n",
       "      <th>4</th>\n",
       "      <td>Afghanistan</td>\n",
       "      <td>AFG</td>\n",
       "      <td>2006</td>\n",
       "      <td>76.824974</td>\n",
       "    </tr>\n",
       "  </tbody>\n",
       "</table>\n",
       "</div>"
      ],
      "text/plain": [
       "        Gebiet Code2  Jahr  Selbstgetragene Gesundheitsausgaben\n",
       "0  Afghanistan   AFG  2002                            85.375600\n",
       "1  Afghanistan   AFG  2003                            86.069190\n",
       "2  Afghanistan   AFG  2004                            84.527590\n",
       "3  Afghanistan   AFG  2005                            78.970085\n",
       "4  Afghanistan   AFG  2006                            76.824974"
      ]
     },
     "execution_count": 17,
     "metadata": {},
     "output_type": "execute_result"
    }
   ],
   "source": [
    "# Datenset 2: Selbstgetragene Gesundheitskosten importieren\n",
    "df2 = pd.read_csv(\"share-of-out-of-pocket-expenditure-on-healthcare.csv\", skiprows=1, \n",
    "                 names=[\"Gebiet\", \"Code2\", \"Jahr\", \"Selbstgetragene Gesundheitsausgaben\"])\n",
    "df2.head()"
   ]
  },
  {
   "cell_type": "markdown",
   "id": "25d1e798",
   "metadata": {},
   "source": [
    "## 2. Daten vorbereiten \n",
    "- Welches Format hat mein Datensatz bzw. wie sind meine Kolumnen strukturiert?\n",
    "- Welches Format kann ich für welche Teilschritte verwenden (wann soll ich pivot bzw. wide format verwenden)?\n",
    "- Welche Datentypen kommen in meinem Datensatz vor?"
   ]
  },
  {
   "cell_type": "code",
   "execution_count": null,
   "id": "7f4fefb8",
   "metadata": {},
   "outputs": [
    {
     "data": {
      "text/html": [
       "<div>\n",
       "<style scoped>\n",
       "    .dataframe tbody tr th:only-of-type {\n",
       "        vertical-align: middle;\n",
       "    }\n",
       "\n",
       "    .dataframe tbody tr th {\n",
       "        vertical-align: top;\n",
       "    }\n",
       "\n",
       "    .dataframe thead th {\n",
       "        text-align: right;\n",
       "    }\n",
       "</style>\n",
       "<table border=\"1\" class=\"dataframe\">\n",
       "  <thead>\n",
       "    <tr style=\"text-align: right;\">\n",
       "      <th>Jahr</th>\n",
       "      <th>1880</th>\n",
       "      <th>1890</th>\n",
       "      <th>1900</th>\n",
       "      <th>1910</th>\n",
       "      <th>1920</th>\n",
       "      <th>1930</th>\n",
       "      <th>1960</th>\n",
       "      <th>1961</th>\n",
       "      <th>1962</th>\n",
       "      <th>1963</th>\n",
       "      <th>...</th>\n",
       "      <th>2012</th>\n",
       "      <th>2013</th>\n",
       "      <th>2014</th>\n",
       "      <th>2015</th>\n",
       "      <th>2016</th>\n",
       "      <th>2017</th>\n",
       "      <th>2018</th>\n",
       "      <th>2019</th>\n",
       "      <th>2020</th>\n",
       "      <th>2021</th>\n",
       "    </tr>\n",
       "    <tr>\n",
       "      <th>Gebiet</th>\n",
       "      <th></th>\n",
       "      <th></th>\n",
       "      <th></th>\n",
       "      <th></th>\n",
       "      <th></th>\n",
       "      <th></th>\n",
       "      <th></th>\n",
       "      <th></th>\n",
       "      <th></th>\n",
       "      <th></th>\n",
       "      <th></th>\n",
       "      <th></th>\n",
       "      <th></th>\n",
       "      <th></th>\n",
       "      <th></th>\n",
       "      <th></th>\n",
       "      <th></th>\n",
       "      <th></th>\n",
       "      <th></th>\n",
       "      <th></th>\n",
       "      <th></th>\n",
       "    </tr>\n",
       "  </thead>\n",
       "  <tbody>\n",
       "    <tr>\n",
       "      <th>Albania</th>\n",
       "      <td>NaN</td>\n",
       "      <td>NaN</td>\n",
       "      <td>NaN</td>\n",
       "      <td>NaN</td>\n",
       "      <td>NaN</td>\n",
       "      <td>NaN</td>\n",
       "      <td>NaN</td>\n",
       "      <td>NaN</td>\n",
       "      <td>NaN</td>\n",
       "      <td>NaN</td>\n",
       "      <td>...</td>\n",
       "      <td>2.474</td>\n",
       "      <td>2.605</td>\n",
       "      <td>2.617</td>\n",
       "      <td>2.755</td>\n",
       "      <td>2.842</td>\n",
       "      <td>2.762</td>\n",
       "      <td>2.878</td>\n",
       "      <td>NaN</td>\n",
       "      <td>NaN</td>\n",
       "      <td>NaN</td>\n",
       "    </tr>\n",
       "    <tr>\n",
       "      <th>Argentina</th>\n",
       "      <td>NaN</td>\n",
       "      <td>NaN</td>\n",
       "      <td>NaN</td>\n",
       "      <td>NaN</td>\n",
       "      <td>NaN</td>\n",
       "      <td>NaN</td>\n",
       "      <td>NaN</td>\n",
       "      <td>NaN</td>\n",
       "      <td>NaN</td>\n",
       "      <td>NaN</td>\n",
       "      <td>...</td>\n",
       "      <td>6.144</td>\n",
       "      <td>6.264</td>\n",
       "      <td>6.361</td>\n",
       "      <td>6.853</td>\n",
       "      <td>5.619</td>\n",
       "      <td>6.644</td>\n",
       "      <td>5.965</td>\n",
       "      <td>5.954</td>\n",
       "      <td>NaN</td>\n",
       "      <td>NaN</td>\n",
       "    </tr>\n",
       "    <tr>\n",
       "      <th>Australia</th>\n",
       "      <td>0.00</td>\n",
       "      <td>0.00</td>\n",
       "      <td>0.00</td>\n",
       "      <td>0.38</td>\n",
       "      <td>0.57</td>\n",
       "      <td>0.44</td>\n",
       "      <td>1.913670</td>\n",
       "      <td>2.092822</td>\n",
       "      <td>2.231257</td>\n",
       "      <td>2.141681</td>\n",
       "      <td>...</td>\n",
       "      <td>5.859</td>\n",
       "      <td>5.685</td>\n",
       "      <td>6.658</td>\n",
       "      <td>6.985</td>\n",
       "      <td>6.942</td>\n",
       "      <td>6.991</td>\n",
       "      <td>7.009</td>\n",
       "      <td>7.361</td>\n",
       "      <td>7.612</td>\n",
       "      <td>NaN</td>\n",
       "    </tr>\n",
       "    <tr>\n",
       "      <th>Austria</th>\n",
       "      <td>0.00</td>\n",
       "      <td>0.00</td>\n",
       "      <td>0.00</td>\n",
       "      <td>0.00</td>\n",
       "      <td>0.00</td>\n",
       "      <td>0.00</td>\n",
       "      <td>2.635009</td>\n",
       "      <td>2.660758</td>\n",
       "      <td>2.703673</td>\n",
       "      <td>2.780921</td>\n",
       "      <td>...</td>\n",
       "      <td>7.617</td>\n",
       "      <td>7.612</td>\n",
       "      <td>7.673</td>\n",
       "      <td>7.678</td>\n",
       "      <td>7.657</td>\n",
       "      <td>7.686</td>\n",
       "      <td>7.724</td>\n",
       "      <td>7.865</td>\n",
       "      <td>8.772</td>\n",
       "      <td>9.555</td>\n",
       "    </tr>\n",
       "    <tr>\n",
       "      <th>Belgium</th>\n",
       "      <td>0.06</td>\n",
       "      <td>0.11</td>\n",
       "      <td>0.12</td>\n",
       "      <td>0.18</td>\n",
       "      <td>0.21</td>\n",
       "      <td>0.09</td>\n",
       "      <td>1.683308</td>\n",
       "      <td>1.707128</td>\n",
       "      <td>1.730949</td>\n",
       "      <td>1.850051</td>\n",
       "      <td>...</td>\n",
       "      <td>8.033</td>\n",
       "      <td>8.040</td>\n",
       "      <td>8.079</td>\n",
       "      <td>8.265</td>\n",
       "      <td>8.305</td>\n",
       "      <td>8.304</td>\n",
       "      <td>8.337</td>\n",
       "      <td>8.107</td>\n",
       "      <td>8.491</td>\n",
       "      <td>NaN</td>\n",
       "    </tr>\n",
       "  </tbody>\n",
       "</table>\n",
       "<p>5 rows × 68 columns</p>\n",
       "</div>"
      ],
      "text/plain": [
       "Jahr       1880  1890  1900  1910  1920  1930      1960      1961      1962  \\\n",
       "Gebiet                                                                        \n",
       "Albania     NaN   NaN   NaN   NaN   NaN   NaN       NaN       NaN       NaN   \n",
       "Argentina   NaN   NaN   NaN   NaN   NaN   NaN       NaN       NaN       NaN   \n",
       "Australia  0.00  0.00  0.00  0.38  0.57  0.44  1.913670  2.092822  2.231257   \n",
       "Austria    0.00  0.00  0.00  0.00  0.00  0.00  2.635009  2.660758  2.703673   \n",
       "Belgium    0.06  0.11  0.12  0.18  0.21  0.09  1.683308  1.707128  1.730949   \n",
       "\n",
       "Jahr           1963  ...   2012   2013   2014   2015   2016   2017   2018  \\\n",
       "Gebiet               ...                                                    \n",
       "Albania         NaN  ...  2.474  2.605  2.617  2.755  2.842  2.762  2.878   \n",
       "Argentina       NaN  ...  6.144  6.264  6.361  6.853  5.619  6.644  5.965   \n",
       "Australia  2.141681  ...  5.859  5.685  6.658  6.985  6.942  6.991  7.009   \n",
       "Austria    2.780921  ...  7.617  7.612  7.673  7.678  7.657  7.686  7.724   \n",
       "Belgium    1.850051  ...  8.033  8.040  8.079  8.265  8.305  8.304  8.337   \n",
       "\n",
       "Jahr        2019   2020   2021  \n",
       "Gebiet                          \n",
       "Albania      NaN    NaN    NaN  \n",
       "Argentina  5.954    NaN    NaN  \n",
       "Australia  7.361  7.612    NaN  \n",
       "Austria    7.865  8.772  9.555  \n",
       "Belgium    8.107  8.491    NaN  \n",
       "\n",
       "[5 rows x 68 columns]"
      ]
     },
     "execution_count": 18,
     "metadata": {},
     "output_type": "execute_result"
    }
   ],
   "source": [
    "# Vorbereitung Datenset 1: Öffentliche Gesundheitsausgaben\n",
    "df1_pivot = df1.pivot(index=\"Gebiet\", columns=\"Jahr\", values=\"öffentliche Gesundheitsausgaben\")\n",
    "df1_pivot.head()"
   ]
  },
  {
   "cell_type": "code",
   "execution_count": null,
   "id": "fd365ae0",
   "metadata": {},
   "outputs": [
    {
     "data": {
      "text/html": [
       "<div>\n",
       "<style scoped>\n",
       "    .dataframe tbody tr th:only-of-type {\n",
       "        vertical-align: middle;\n",
       "    }\n",
       "\n",
       "    .dataframe tbody tr th {\n",
       "        vertical-align: top;\n",
       "    }\n",
       "\n",
       "    .dataframe thead th {\n",
       "        text-align: right;\n",
       "    }\n",
       "</style>\n",
       "<table border=\"1\" class=\"dataframe\">\n",
       "  <thead>\n",
       "    <tr style=\"text-align: right;\">\n",
       "      <th>Jahr</th>\n",
       "      <th>2000</th>\n",
       "      <th>2001</th>\n",
       "      <th>2002</th>\n",
       "      <th>2003</th>\n",
       "      <th>2004</th>\n",
       "      <th>2005</th>\n",
       "      <th>2006</th>\n",
       "      <th>2007</th>\n",
       "      <th>2008</th>\n",
       "      <th>2009</th>\n",
       "      <th>...</th>\n",
       "      <th>2012</th>\n",
       "      <th>2013</th>\n",
       "      <th>2014</th>\n",
       "      <th>2015</th>\n",
       "      <th>2016</th>\n",
       "      <th>2017</th>\n",
       "      <th>2018</th>\n",
       "      <th>2019</th>\n",
       "      <th>2020</th>\n",
       "      <th>2021</th>\n",
       "    </tr>\n",
       "    <tr>\n",
       "      <th>Gebiet</th>\n",
       "      <th></th>\n",
       "      <th></th>\n",
       "      <th></th>\n",
       "      <th></th>\n",
       "      <th></th>\n",
       "      <th></th>\n",
       "      <th></th>\n",
       "      <th></th>\n",
       "      <th></th>\n",
       "      <th></th>\n",
       "      <th></th>\n",
       "      <th></th>\n",
       "      <th></th>\n",
       "      <th></th>\n",
       "      <th></th>\n",
       "      <th></th>\n",
       "      <th></th>\n",
       "      <th></th>\n",
       "      <th></th>\n",
       "      <th></th>\n",
       "      <th></th>\n",
       "    </tr>\n",
       "  </thead>\n",
       "  <tbody>\n",
       "    <tr>\n",
       "      <th>Afghanistan</th>\n",
       "      <td>NaN</td>\n",
       "      <td>NaN</td>\n",
       "      <td>85.375600</td>\n",
       "      <td>86.069190</td>\n",
       "      <td>84.527590</td>\n",
       "      <td>78.970085</td>\n",
       "      <td>76.824974</td>\n",
       "      <td>78.169980</td>\n",
       "      <td>75.403390</td>\n",
       "      <td>72.779240</td>\n",
       "      <td>...</td>\n",
       "      <td>74.486206</td>\n",
       "      <td>72.047860</td>\n",
       "      <td>73.055920</td>\n",
       "      <td>78.382290</td>\n",
       "      <td>75.974335</td>\n",
       "      <td>75.482580</td>\n",
       "      <td>76.223020</td>\n",
       "      <td>76.818370</td>\n",
       "      <td>74.813965</td>\n",
       "      <td>77.21405</td>\n",
       "    </tr>\n",
       "    <tr>\n",
       "      <th>Albania</th>\n",
       "      <td>51.814300</td>\n",
       "      <td>49.128300</td>\n",
       "      <td>50.855670</td>\n",
       "      <td>47.601320</td>\n",
       "      <td>47.047787</td>\n",
       "      <td>48.436172</td>\n",
       "      <td>48.580803</td>\n",
       "      <td>51.285343</td>\n",
       "      <td>56.224728</td>\n",
       "      <td>57.505250</td>\n",
       "      <td>...</td>\n",
       "      <td>58.832058</td>\n",
       "      <td>57.825634</td>\n",
       "      <td>59.115170</td>\n",
       "      <td>57.168310</td>\n",
       "      <td>57.053867</td>\n",
       "      <td>57.464123</td>\n",
       "      <td>56.489650</td>\n",
       "      <td>NaN</td>\n",
       "      <td>NaN</td>\n",
       "      <td>NaN</td>\n",
       "    </tr>\n",
       "    <tr>\n",
       "      <th>Algeria</th>\n",
       "      <td>25.794514</td>\n",
       "      <td>21.668524</td>\n",
       "      <td>22.524883</td>\n",
       "      <td>21.148638</td>\n",
       "      <td>26.094326</td>\n",
       "      <td>28.093613</td>\n",
       "      <td>29.121359</td>\n",
       "      <td>28.088581</td>\n",
       "      <td>26.146960</td>\n",
       "      <td>27.449507</td>\n",
       "      <td>...</td>\n",
       "      <td>25.715908</td>\n",
       "      <td>27.561977</td>\n",
       "      <td>26.658457</td>\n",
       "      <td>28.208338</td>\n",
       "      <td>30.883596</td>\n",
       "      <td>32.535194</td>\n",
       "      <td>32.628517</td>\n",
       "      <td>33.399155</td>\n",
       "      <td>35.804718</td>\n",
       "      <td>NaN</td>\n",
       "    </tr>\n",
       "    <tr>\n",
       "      <th>Andorra</th>\n",
       "      <td>15.397888</td>\n",
       "      <td>15.555239</td>\n",
       "      <td>15.046601</td>\n",
       "      <td>16.053387</td>\n",
       "      <td>16.933514</td>\n",
       "      <td>15.962100</td>\n",
       "      <td>17.888039</td>\n",
       "      <td>17.996744</td>\n",
       "      <td>15.578386</td>\n",
       "      <td>14.393357</td>\n",
       "      <td>...</td>\n",
       "      <td>13.563203</td>\n",
       "      <td>13.268412</td>\n",
       "      <td>12.671029</td>\n",
       "      <td>12.910532</td>\n",
       "      <td>12.377317</td>\n",
       "      <td>11.934806</td>\n",
       "      <td>12.246914</td>\n",
       "      <td>12.595785</td>\n",
       "      <td>10.925110</td>\n",
       "      <td>NaN</td>\n",
       "    </tr>\n",
       "    <tr>\n",
       "      <th>Angola</th>\n",
       "      <td>27.304688</td>\n",
       "      <td>45.091087</td>\n",
       "      <td>49.662052</td>\n",
       "      <td>48.510690</td>\n",
       "      <td>46.891098</td>\n",
       "      <td>42.332657</td>\n",
       "      <td>30.665700</td>\n",
       "      <td>28.383972</td>\n",
       "      <td>21.653238</td>\n",
       "      <td>15.508905</td>\n",
       "      <td>...</td>\n",
       "      <td>17.619177</td>\n",
       "      <td>21.349277</td>\n",
       "      <td>26.876167</td>\n",
       "      <td>33.523167</td>\n",
       "      <td>35.208930</td>\n",
       "      <td>34.121014</td>\n",
       "      <td>36.264200</td>\n",
       "      <td>37.887154</td>\n",
       "      <td>37.144620</td>\n",
       "      <td>NaN</td>\n",
       "    </tr>\n",
       "  </tbody>\n",
       "</table>\n",
       "<p>5 rows × 22 columns</p>\n",
       "</div>"
      ],
      "text/plain": [
       "Jahr              2000       2001       2002       2003       2004       2005  \\\n",
       "Gebiet                                                                          \n",
       "Afghanistan        NaN        NaN  85.375600  86.069190  84.527590  78.970085   \n",
       "Albania      51.814300  49.128300  50.855670  47.601320  47.047787  48.436172   \n",
       "Algeria      25.794514  21.668524  22.524883  21.148638  26.094326  28.093613   \n",
       "Andorra      15.397888  15.555239  15.046601  16.053387  16.933514  15.962100   \n",
       "Angola       27.304688  45.091087  49.662052  48.510690  46.891098  42.332657   \n",
       "\n",
       "Jahr              2006       2007       2008       2009  ...       2012  \\\n",
       "Gebiet                                                   ...              \n",
       "Afghanistan  76.824974  78.169980  75.403390  72.779240  ...  74.486206   \n",
       "Albania      48.580803  51.285343  56.224728  57.505250  ...  58.832058   \n",
       "Algeria      29.121359  28.088581  26.146960  27.449507  ...  25.715908   \n",
       "Andorra      17.888039  17.996744  15.578386  14.393357  ...  13.563203   \n",
       "Angola       30.665700  28.383972  21.653238  15.508905  ...  17.619177   \n",
       "\n",
       "Jahr              2013       2014       2015       2016       2017       2018  \\\n",
       "Gebiet                                                                          \n",
       "Afghanistan  72.047860  73.055920  78.382290  75.974335  75.482580  76.223020   \n",
       "Albania      57.825634  59.115170  57.168310  57.053867  57.464123  56.489650   \n",
       "Algeria      27.561977  26.658457  28.208338  30.883596  32.535194  32.628517   \n",
       "Andorra      13.268412  12.671029  12.910532  12.377317  11.934806  12.246914   \n",
       "Angola       21.349277  26.876167  33.523167  35.208930  34.121014  36.264200   \n",
       "\n",
       "Jahr              2019       2020      2021  \n",
       "Gebiet                                       \n",
       "Afghanistan  76.818370  74.813965  77.21405  \n",
       "Albania            NaN        NaN       NaN  \n",
       "Algeria      33.399155  35.804718       NaN  \n",
       "Andorra      12.595785  10.925110       NaN  \n",
       "Angola       37.887154  37.144620       NaN  \n",
       "\n",
       "[5 rows x 22 columns]"
      ]
     },
     "execution_count": 19,
     "metadata": {},
     "output_type": "execute_result"
    }
   ],
   "source": [
    "#Vorbereitung Datenset 2: Selbstgetragene Gesundheitsausgaben\n",
    "df2_pivot = df2.pivot(index=\"Gebiet\", columns=\"Jahr\", values=\"Selbstgetragene Gesundheitsausgaben\")\n",
    "df2_pivot.head()"
   ]
  },
  {
   "cell_type": "code",
   "execution_count": null,
   "id": "d08662a0",
   "metadata": {},
   "outputs": [],
   "source": []
  },
  {
   "cell_type": "markdown",
   "id": "28195847",
   "metadata": {},
   "source": [
    "## 3. Statistik der Rohdaten (Analyse im Long-Format)\n",
    "- Ist meine Variable kontinuierlich oder diskret? Falls diskret, wieviele einzigartige Klassen gibt es? Wieviele Datenpunkte pro Klasse sind vorhanden?\n",
    "- Anzahl Datenpunkte (Beschreibend und Graphische Darstellung)\n",
    "    - Wieviele Datenpunkte sind für die bestimmten Variabeln vorhanden?\n",
    "    - Wo fehlen Datenpunkte?\n",
    "- Wie ist die Verteilung der zu untersuchenden Variabel(n) (Histogram, Boxplot, Säulendiagram)\n",
    "- Vermutest du Zusammenhänge zwischen zwei Variabeln (Streuungsdiagramm, Korrelationsmatrix)\n",
    "\n"
   ]
  },
  {
   "cell_type": "code",
   "execution_count": 22,
   "id": "f1f52189",
   "metadata": {},
   "outputs": [
    {
     "data": {
      "text/plain": [
       "Gebiet                              object\n",
       "Code1                               object\n",
       "Jahr                                 int64\n",
       "öffentliche Gesundheitsausgaben    float64\n",
       "dtype: object"
      ]
     },
     "execution_count": 22,
     "metadata": {},
     "output_type": "execute_result"
    }
   ],
   "source": [
    "df1.dtypes\n"
   ]
  },
  {
   "cell_type": "code",
   "execution_count": 28,
   "id": "0e40e9a2",
   "metadata": {},
   "outputs": [
    {
     "data": {
      "text/plain": [
       "Gebiet                                  object\n",
       "Code2                                   object\n",
       "Jahr                                     int64\n",
       "Selbstgetragene Gesundheitsausgaben    float64\n",
       "dtype: object"
      ]
     },
     "execution_count": 28,
     "metadata": {},
     "output_type": "execute_result"
    }
   ],
   "source": [
    "df2.dtypes"
   ]
  },
  {
   "cell_type": "markdown",
   "id": "63e05726",
   "metadata": {},
   "source": [
    "### 3.1 Analyse Gebiete"
   ]
  },
  {
   "cell_type": "code",
   "execution_count": null,
   "id": "ed014c37",
   "metadata": {},
   "outputs": [
    {
     "name": "stdout",
     "output_type": "stream",
     "text": [
      "Anzahl Länder öffentliche Gesundheitsausgaben:  53\n",
      "Anzahl Länder Selbstgetragene Gesundheitsausgaben:  204\n"
     ]
    }
   ],
   "source": [
    "# Anzahl Gebiete pro Datensatz\n",
    "nCountries = len(df1[\"Gebiet\"].unique())\n",
    "\n",
    "print(\"Anzahl Länder öffentliche Gesundheitsausgaben: \", nCountries)\n",
    "\n",
    "nCountries = len(df2[\"Gebiet\"].unique())\n",
    "\n",
    "print(\"Anzahl Länder Selbstgetragene Gesundheitsausgaben: \", nCountries)"
   ]
  },
  {
   "cell_type": "code",
   "execution_count": null,
   "id": "b202b7ce",
   "metadata": {},
   "outputs": [
    {
     "data": {
      "text/plain": [
       "Gebiet\n",
       "Italy              68\n",
       "Denmark            68\n",
       "United Kingdom     68\n",
       "Austria            68\n",
       "Sweden             68\n",
       "Norway             68\n",
       "Canada             68\n",
       "New Zealand        67\n",
       "Netherlands        67\n",
       "Japan              67\n",
       "Greece             67\n",
       "Germany            67\n",
       "France             67\n",
       "Finland            67\n",
       "United States      67\n",
       "Australia          67\n",
       "Belgium            67\n",
       "Switzerland        66\n",
       "Ireland            63\n",
       "Iceland            62\n",
       "Portugal           62\n",
       "Spain              61\n",
       "Turkey             59\n",
       "South Korea        52\n",
       "Luxembourg         46\n",
       "Poland             32\n",
       "Czechia            31\n",
       "Hungary            31\n",
       "Israel             26\n",
       "Slovakia           24\n",
       "Estonia            23\n",
       "Mexico             22\n",
       "Chile              22\n",
       "Lithuania          22\n",
       "Costa Rica         21\n",
       "Latvia             21\n",
       "Colombia           21\n",
       "Slovenia           21\n",
       "China              20\n",
       "India              20\n",
       "Brazil             20\n",
       "Peru               20\n",
       "South Africa       20\n",
       "Argentina          20\n",
       "Bulgaria           18\n",
       "Romania            18\n",
       "Malta              17\n",
       "Croatia            16\n",
       "Cyprus             16\n",
       "North Macedonia    10\n",
       "Serbia             10\n",
       "Montenegro          9\n",
       "Albania             9\n",
       "Name: count, dtype: int64"
      ]
     },
     "execution_count": 25,
     "metadata": {},
     "output_type": "execute_result"
    }
   ],
   "source": [
    "#Anzahl Datenpunkte pro Gebiet: Datenset 1 Öffentliche Gesundheitsausgaben \n",
    "df1['Gebiet'].value_counts()\n"
   ]
  },
  {
   "cell_type": "code",
   "execution_count": 46,
   "id": "2e3ae28b",
   "metadata": {},
   "outputs": [
    {
     "data": {
      "text/plain": [
       "Text(0.5, 1.0, 'Anzahl Datenpunkte pro Gebiet: öffentliche Gesundheitsausgaben')"
      ]
     },
     "execution_count": 46,
     "metadata": {},
     "output_type": "execute_result"
    },
    {
     "data": {
      "image/png": "[encoded data removed]",
      "text/plain": [
       "<Figure size 640x480 with 1 Axes>"
      ]
     },
     "metadata": {},
     "output_type": "display_data"
    }
   ],
   "source": [
    "df1['Gebiet'].value_counts().plot(kind='bar', \n",
    "                                 xticks=[ ], \n",
    "                                 ylabel= 'Anzahl Datenpunkte', title='Anzahl Datenpunkte pro Gebiet: öffentliche Gesundheitsausgaben')\n",
    "plt.title('Anzahl Datenpunkte pro Gebiet: öffentliche Gesundheitsausgaben', fontweight='bold')"
   ]
  },
  {
   "cell_type": "code",
   "execution_count": 26,
   "id": "347a2b98",
   "metadata": {},
   "outputs": [
    {
     "data": {
      "text/plain": [
       "Gebiet\n",
       "South Korea    22\n",
       "Ireland        22\n",
       "Philippines    22\n",
       "Canada         22\n",
       "Luxembourg     22\n",
       "               ..\n",
       "Syria          13\n",
       "Libya          12\n",
       "Zimbabwe       11\n",
       "Montenegro     10\n",
       "South Sudan     4\n",
       "Name: count, Length: 204, dtype: int64"
      ]
     },
     "execution_count": 26,
     "metadata": {},
     "output_type": "execute_result"
    }
   ],
   "source": [
    "#Anzahl Datenpunkte pro Gebiet: Datenset 2 Selbstgetragene Gesundheitskosten \n",
    "df2['Gebiet'].value_counts()"
   ]
  },
  {
   "cell_type": "code",
   "execution_count": 45,
   "id": "c335e389",
   "metadata": {},
   "outputs": [
    {
     "data": {
      "text/plain": [
       "Text(0.5, 1.0, 'Anzahl Datenpunkte pro Gebiet: selbstgetragene Gesundheitskosten')"
      ]
     },
     "execution_count": 45,
     "metadata": {},
     "output_type": "execute_result"
    },
    {
     "data": {
      "image/png": "[encoded data removed]",
      "text/plain": [
       "<Figure size 640x480 with 1 Axes>"
      ]
     },
     "metadata": {},
     "output_type": "display_data"
    }
   ],
   "source": [
    "df2['Gebiet'].value_counts().plot(kind='bar', \n",
    "                                 xticks=[ ], \n",
    "                                 ylabel= 'Anzahl Datenpunkte',title='Anzahl Datenpunkte pro Gebiet: selbstgetragene Gesundheitskosten')\n",
    "plt.title('Anzahl Datenpunkte pro Gebiet: selbstgetragene Gesundheitskosten', fontweight='bold')"
   ]
  },
  {
   "cell_type": "markdown",
   "id": "55ccf554",
   "metadata": {},
   "source": [
    "### 3.1.2 Analyse Codes"
   ]
  },
  {
   "cell_type": "code",
   "execution_count": 12,
   "id": "d1da79ed",
   "metadata": {},
   "outputs": [
    {
     "name": "stdout",
     "output_type": "stream",
     "text": [
      "Anzahl verschiedener Codes öffentliche Gesundheitsausgaben:  53\n",
      "Anzahl verschiedener Codes selbstgetragene Gesundheitskosten:  192\n"
     ]
    }
   ],
   "source": [
    "print('Anzahl verschiedener Codes öffentliche Gesundheitsausgaben: ' , len(df1['Code1'].unique()))\n",
    "print('Anzahl verschiedener Codes selbstgetragene Gesundheitskosten: ' , len(df2['Code2'].unique()))"
   ]
  },
  {
   "cell_type": "code",
   "execution_count": 56,
   "id": "b07a0a5e",
   "metadata": {},
   "outputs": [
    {
     "name": "stdout",
     "output_type": "stream",
     "text": [
      "Countries with missing category codes:\n",
      "1050    NaN\n",
      "1051    NaN\n",
      "1052    NaN\n",
      "1053    NaN\n",
      "1054    NaN\n",
      "       ... \n",
      "4044    NaN\n",
      "4045    NaN\n",
      "4046    NaN\n",
      "4047    NaN\n",
      "4048    NaN\n",
      "Name: Code2, Length: 273, dtype: object\n"
     ]
    }
   ],
   "source": [
    "missing_data = df2[df2['Code2'].isnull()]\n",
    "missing_codes = missing_data['Code2']\n",
    "print(\"Countries with missing category codes:\")\n",
    "print(missing_codes)\n"
   ]
  },
  {
   "cell_type": "markdown",
   "id": "51612ec2",
   "metadata": {},
   "source": [
    "### 3.2 Analyse Jahre"
   ]
  },
  {
   "cell_type": "code",
   "execution_count": 7,
   "id": "6cc7091e",
   "metadata": {},
   "outputs": [
    {
     "name": "stdout",
     "output_type": "stream",
     "text": [
      "Anzahl Jahren öffentliche Gesundheitsausgaben:  68\n",
      "Anzahl Jahren Selbstgetragene Gesundheitsausgaben:  22\n"
     ]
    }
   ],
   "source": [
    "nYears = len(df1[\"Jahr\"].unique())\n",
    "\n",
    "print(\"Anzahl Jahren öffentliche Gesundheitsausgaben: \", nYears)\n",
    "\n",
    "nYears = len(df2[\"Jahr\"].unique())\n",
    "\n",
    "print(\"Anzahl Jahren Selbstgetragene Gesundheitsausgaben: \", nYears)"
   ]
  },
  {
   "cell_type": "code",
   "execution_count": 64,
   "id": "6db8081e",
   "metadata": {},
   "outputs": [
    {
     "data": {
      "text/plain": [
       "Text(0.5, 1.0, 'Anzahl Datenpuntkte pro Jahr: öffentliche Gesundheitsausgaben')"
      ]
     },
     "execution_count": 64,
     "metadata": {},
     "output_type": "execute_result"
    },
    {
     "data": {
      "image/png": "[encoded data removed]",
      "text/plain": [
       "<Figure size 640x480 with 1 Axes>"
      ]
     },
     "metadata": {},
     "output_type": "display_data"
    }
   ],
   "source": [
    "g = df1['Jahr'].value_counts().sort_index().plot(ylabel='Anzahl Datenpunkte', title='Anzahl Datenpunkte pro Jahr: öffentliche Gesundheitsausgaben')\n",
    "g.axvline(x=2000, color='red', label='Jahr 2000')\n",
    "g.legend()\n",
    "plt.title('Anzahl Datenpuntkte pro Jahr: öffentliche Gesundheitsausgaben', fontweight='bold')\n"
   ]
  },
  {
   "cell_type": "code",
   "execution_count": 63,
   "id": "747faf1a",
   "metadata": {},
   "outputs": [
    {
     "data": {
      "text/plain": [
       "Text(0.5, 1.0, 'Anzahl Datenpuntkte pro Jahr: selbstgetragene Gesundheitskosten')"
      ]
     },
     "execution_count": 63,
     "metadata": {},
     "output_type": "execute_result"
    },
    {
     "data": {
      "image/png": "[encoded data removed]",
      "text/plain": [
       "<Figure size 640x480 with 1 Axes>"
      ]
     },
     "metadata": {},
     "output_type": "display_data"
    }
   ],
   "source": [
    "g = df2['Jahr'].value_counts().sort_index().plot(ylabel='Anzahl Datenpunkte', title='Anzahl Datenpuntkte pro Jahr: öffentliche Gesundheitsausgaben')\n",
    "g.axvline(x=2000, color='red', label='Jahr 2000')\n",
    "g.legend()\n",
    "plt.title('Anzahl Datenpuntkte pro Jahr: selbstgetragene Gesundheitskosten', fontweight='bold')"
   ]
  },
  {
   "cell_type": "markdown",
   "id": "a0deefe0",
   "metadata": {},
   "source": [
    "### 3.4 Analyse Kosten"
   ]
  },
  {
   "cell_type": "code",
   "execution_count": 65,
   "id": "b68162b2",
   "metadata": {},
   "outputs": [
    {
     "data": {
      "text/html": [
       "<div>\n",
       "<style scoped>\n",
       "    .dataframe tbody tr th:only-of-type {\n",
       "        vertical-align: middle;\n",
       "    }\n",
       "\n",
       "    .dataframe tbody tr th {\n",
       "        vertical-align: top;\n",
       "    }\n",
       "\n",
       "    .dataframe thead th {\n",
       "        text-align: right;\n",
       "    }\n",
       "</style>\n",
       "<table border=\"1\" class=\"dataframe\">\n",
       "  <thead>\n",
       "    <tr style=\"text-align: right;\">\n",
       "      <th></th>\n",
       "      <th>Jahr</th>\n",
       "      <th>öffentliche Gesundheitsausgaben</th>\n",
       "    </tr>\n",
       "  </thead>\n",
       "  <tbody>\n",
       "    <tr>\n",
       "      <th>count</th>\n",
       "      <td>2177.000000</td>\n",
       "      <td>2177.000000</td>\n",
       "    </tr>\n",
       "    <tr>\n",
       "      <th>mean</th>\n",
       "      <td>1991.327515</td>\n",
       "      <td>4.627465</td>\n",
       "    </tr>\n",
       "    <tr>\n",
       "      <th>std</th>\n",
       "      <td>26.330405</td>\n",
       "      <td>2.218401</td>\n",
       "    </tr>\n",
       "    <tr>\n",
       "      <th>min</th>\n",
       "      <td>1880.000000</td>\n",
       "      <td>0.000000</td>\n",
       "    </tr>\n",
       "    <tr>\n",
       "      <th>25%</th>\n",
       "      <td>1978.000000</td>\n",
       "      <td>3.246000</td>\n",
       "    </tr>\n",
       "    <tr>\n",
       "      <th>50%</th>\n",
       "      <td>1999.000000</td>\n",
       "      <td>4.712000</td>\n",
       "    </tr>\n",
       "    <tr>\n",
       "      <th>75%</th>\n",
       "      <td>2010.000000</td>\n",
       "      <td>6.029000</td>\n",
       "    </tr>\n",
       "    <tr>\n",
       "      <th>max</th>\n",
       "      <td>2021.000000</td>\n",
       "      <td>15.949000</td>\n",
       "    </tr>\n",
       "  </tbody>\n",
       "</table>\n",
       "</div>"
      ],
      "text/plain": [
       "              Jahr  öffentliche Gesundheitsausgaben\n",
       "count  2177.000000                      2177.000000\n",
       "mean   1991.327515                         4.627465\n",
       "std      26.330405                         2.218401\n",
       "min    1880.000000                         0.000000\n",
       "25%    1978.000000                         3.246000\n",
       "50%    1999.000000                         4.712000\n",
       "75%    2010.000000                         6.029000\n",
       "max    2021.000000                        15.949000"
      ]
     },
     "execution_count": 65,
     "metadata": {},
     "output_type": "execute_result"
    }
   ],
   "source": [
    "df1.describe()"
   ]
  },
  {
   "cell_type": "code",
   "execution_count": 66,
   "id": "3c865d09",
   "metadata": {},
   "outputs": [
    {
     "data": {
      "text/html": [
       "<div>\n",
       "<style scoped>\n",
       "    .dataframe tbody tr th:only-of-type {\n",
       "        vertical-align: middle;\n",
       "    }\n",
       "\n",
       "    .dataframe tbody tr th {\n",
       "        vertical-align: top;\n",
       "    }\n",
       "\n",
       "    .dataframe thead th {\n",
       "        text-align: right;\n",
       "    }\n",
       "</style>\n",
       "<table border=\"1\" class=\"dataframe\">\n",
       "  <thead>\n",
       "    <tr style=\"text-align: right;\">\n",
       "      <th></th>\n",
       "      <th>Jahr</th>\n",
       "      <th>Selbstgetragene Gesundheitsausgaben</th>\n",
       "    </tr>\n",
       "  </thead>\n",
       "  <tbody>\n",
       "    <tr>\n",
       "      <th>count</th>\n",
       "      <td>4223.000000</td>\n",
       "      <td>4223.000000</td>\n",
       "    </tr>\n",
       "    <tr>\n",
       "      <th>mean</th>\n",
       "      <td>2010.036467</td>\n",
       "      <td>33.644061</td>\n",
       "    </tr>\n",
       "    <tr>\n",
       "      <th>std</th>\n",
       "      <td>6.059714</td>\n",
       "      <td>19.442344</td>\n",
       "    </tr>\n",
       "    <tr>\n",
       "      <th>min</th>\n",
       "      <td>2000.000000</td>\n",
       "      <td>0.080350</td>\n",
       "    </tr>\n",
       "    <tr>\n",
       "      <th>25%</th>\n",
       "      <td>2005.000000</td>\n",
       "      <td>16.885437</td>\n",
       "    </tr>\n",
       "    <tr>\n",
       "      <th>50%</th>\n",
       "      <td>2010.000000</td>\n",
       "      <td>31.515785</td>\n",
       "    </tr>\n",
       "    <tr>\n",
       "      <th>75%</th>\n",
       "      <td>2015.000000</td>\n",
       "      <td>47.637738</td>\n",
       "    </tr>\n",
       "    <tr>\n",
       "      <th>max</th>\n",
       "      <td>2021.000000</td>\n",
       "      <td>86.069190</td>\n",
       "    </tr>\n",
       "  </tbody>\n",
       "</table>\n",
       "</div>"
      ],
      "text/plain": [
       "              Jahr  Selbstgetragene Gesundheitsausgaben\n",
       "count  4223.000000                          4223.000000\n",
       "mean   2010.036467                            33.644061\n",
       "std       6.059714                            19.442344\n",
       "min    2000.000000                             0.080350\n",
       "25%    2005.000000                            16.885437\n",
       "50%    2010.000000                            31.515785\n",
       "75%    2015.000000                            47.637738\n",
       "max    2021.000000                            86.069190"
      ]
     },
     "execution_count": 66,
     "metadata": {},
     "output_type": "execute_result"
    }
   ],
   "source": [
    "df2.describe()\n"
   ]
  },
  {
   "cell_type": "markdown",
   "id": "bbdf3294",
   "metadata": {},
   "source": [
    "## 4. Analyse \n",
    "\n",
    "### Vorgehen\n",
    "- Spezifische Untersuchung der Fragestellung (Berechnungen)\n",
    "- Visualisieren der Resultate: Verwendet Achsenbeschriftung und überlegt euch, welche Art von Darstellung sinnvoll ist (Kuchen-, Säulen, Liniendiagramm; 2 y-Achsen?)\n",
    "- Beschreiben der Beobachtungen\n",
    "- Interpretation der Resultate (Hypothesen zu den Resultaten)\n",
    "- Untermauern der Interpretation mittels Hinweise zur Literatur (Mögliche Zusammenhänge aufzeigen).\n",
    "\n"
   ]
  },
  {
   "cell_type": "code",
   "execution_count": null,
   "id": "efacf120",
   "metadata": {},
   "outputs": [],
   "source": []
  },
  {
   "cell_type": "code",
   "execution_count": 15,
   "metadata": {},
   "outputs": [
    {
     "ename": "KeyError",
     "evalue": "\"['Code'] not found in axis\"",
     "output_type": "error",
     "traceback": [
      "\u001b[1;31m---------------------------------------------------------------------------\u001b[0m",
      "\u001b[1;31mKeyError\u001b[0m                                  Traceback (most recent call last)",
      "Cell \u001b[1;32mIn[15], line 1\u001b[0m\n\u001b[1;32m----> 1\u001b[0m df1\u001b[38;5;241m.\u001b[39mdrop(\u001b[38;5;124m\"\u001b[39m\u001b[38;5;124mCode\u001b[39m\u001b[38;5;124m\"\u001b[39m, axis\u001b[38;5;241m=\u001b[39m\u001b[38;5;241m1\u001b[39m, inplace\u001b[38;5;241m=\u001b[39m\u001b[38;5;28;01mTrue\u001b[39;00m)\n\u001b[0;32m      2\u001b[0m df1 \u001b[38;5;241m=\u001b[39m df1[\u001b[38;5;241m~\u001b[39m((df1[\u001b[38;5;124m\"\u001b[39m\u001b[38;5;124mJahr\u001b[39m\u001b[38;5;124m\"\u001b[39m] \u001b[38;5;241m>\u001b[39m\u001b[38;5;241m=\u001b[39m \u001b[38;5;241m1880\u001b[39m) \u001b[38;5;241m&\u001b[39m (df1[\u001b[38;5;124m\"\u001b[39m\u001b[38;5;124mJahr\u001b[39m\u001b[38;5;124m\"\u001b[39m] \u001b[38;5;241m<\u001b[39m\u001b[38;5;241m=\u001b[39m \u001b[38;5;241m1999\u001b[39m))]\n\u001b[0;32m      3\u001b[0m df1\u001b[38;5;241m.\u001b[39mhead()\n",
      "File \u001b[1;32mc:\\Users\\leahc\\anaconda3\\Lib\\site-packages\\pandas\\core\\frame.py:5581\u001b[0m, in \u001b[0;36mDataFrame.drop\u001b[1;34m(self, labels, axis, index, columns, level, inplace, errors)\u001b[0m\n\u001b[0;32m   5433\u001b[0m \u001b[38;5;28;01mdef\u001b[39;00m \u001b[38;5;21mdrop\u001b[39m(\n\u001b[0;32m   5434\u001b[0m     \u001b[38;5;28mself\u001b[39m,\n\u001b[0;32m   5435\u001b[0m     labels: IndexLabel \u001b[38;5;241m|\u001b[39m \u001b[38;5;28;01mNone\u001b[39;00m \u001b[38;5;241m=\u001b[39m \u001b[38;5;28;01mNone\u001b[39;00m,\n\u001b[1;32m   (...)\u001b[0m\n\u001b[0;32m   5442\u001b[0m     errors: IgnoreRaise \u001b[38;5;241m=\u001b[39m \u001b[38;5;124m\"\u001b[39m\u001b[38;5;124mraise\u001b[39m\u001b[38;5;124m\"\u001b[39m,\n\u001b[0;32m   5443\u001b[0m ) \u001b[38;5;241m-\u001b[39m\u001b[38;5;241m>\u001b[39m DataFrame \u001b[38;5;241m|\u001b[39m \u001b[38;5;28;01mNone\u001b[39;00m:\n\u001b[0;32m   5444\u001b[0m \u001b[38;5;250m    \u001b[39m\u001b[38;5;124;03m\"\"\"\u001b[39;00m\n\u001b[0;32m   5445\u001b[0m \u001b[38;5;124;03m    Drop specified labels from rows or columns.\u001b[39;00m\n\u001b[0;32m   5446\u001b[0m \n\u001b[1;32m   (...)\u001b[0m\n\u001b[0;32m   5579\u001b[0m \u001b[38;5;124;03m            weight  1.0     0.8\u001b[39;00m\n\u001b[0;32m   5580\u001b[0m \u001b[38;5;124;03m    \"\"\"\u001b[39;00m\n\u001b[1;32m-> 5581\u001b[0m     \u001b[38;5;28;01mreturn\u001b[39;00m \u001b[38;5;28msuper\u001b[39m()\u001b[38;5;241m.\u001b[39mdrop(\n\u001b[0;32m   5582\u001b[0m         labels\u001b[38;5;241m=\u001b[39mlabels,\n\u001b[0;32m   5583\u001b[0m         axis\u001b[38;5;241m=\u001b[39maxis,\n\u001b[0;32m   5584\u001b[0m         index\u001b[38;5;241m=\u001b[39mindex,\n\u001b[0;32m   5585\u001b[0m         columns\u001b[38;5;241m=\u001b[39mcolumns,\n\u001b[0;32m   5586\u001b[0m         level\u001b[38;5;241m=\u001b[39mlevel,\n\u001b[0;32m   5587\u001b[0m         inplace\u001b[38;5;241m=\u001b[39minplace,\n\u001b[0;32m   5588\u001b[0m         errors\u001b[38;5;241m=\u001b[39merrors,\n\u001b[0;32m   5589\u001b[0m     )\n",
      "File \u001b[1;32mc:\\Users\\leahc\\anaconda3\\Lib\\site-packages\\pandas\\core\\generic.py:4788\u001b[0m, in \u001b[0;36mNDFrame.drop\u001b[1;34m(self, labels, axis, index, columns, level, inplace, errors)\u001b[0m\n\u001b[0;32m   4786\u001b[0m \u001b[38;5;28;01mfor\u001b[39;00m axis, labels \u001b[38;5;129;01min\u001b[39;00m axes\u001b[38;5;241m.\u001b[39mitems():\n\u001b[0;32m   4787\u001b[0m     \u001b[38;5;28;01mif\u001b[39;00m labels \u001b[38;5;129;01mis\u001b[39;00m \u001b[38;5;129;01mnot\u001b[39;00m \u001b[38;5;28;01mNone\u001b[39;00m:\n\u001b[1;32m-> 4788\u001b[0m         obj \u001b[38;5;241m=\u001b[39m obj\u001b[38;5;241m.\u001b[39m_drop_axis(labels, axis, level\u001b[38;5;241m=\u001b[39mlevel, errors\u001b[38;5;241m=\u001b[39merrors)\n\u001b[0;32m   4790\u001b[0m \u001b[38;5;28;01mif\u001b[39;00m inplace:\n\u001b[0;32m   4791\u001b[0m     \u001b[38;5;28mself\u001b[39m\u001b[38;5;241m.\u001b[39m_update_inplace(obj)\n",
      "File \u001b[1;32mc:\\Users\\leahc\\anaconda3\\Lib\\site-packages\\pandas\\core\\generic.py:4830\u001b[0m, in \u001b[0;36mNDFrame._drop_axis\u001b[1;34m(self, labels, axis, level, errors, only_slice)\u001b[0m\n\u001b[0;32m   4828\u001b[0m         new_axis \u001b[38;5;241m=\u001b[39m axis\u001b[38;5;241m.\u001b[39mdrop(labels, level\u001b[38;5;241m=\u001b[39mlevel, errors\u001b[38;5;241m=\u001b[39merrors)\n\u001b[0;32m   4829\u001b[0m     \u001b[38;5;28;01melse\u001b[39;00m:\n\u001b[1;32m-> 4830\u001b[0m         new_axis \u001b[38;5;241m=\u001b[39m axis\u001b[38;5;241m.\u001b[39mdrop(labels, errors\u001b[38;5;241m=\u001b[39merrors)\n\u001b[0;32m   4831\u001b[0m     indexer \u001b[38;5;241m=\u001b[39m axis\u001b[38;5;241m.\u001b[39mget_indexer(new_axis)\n\u001b[0;32m   4833\u001b[0m \u001b[38;5;66;03m# Case for non-unique axis\u001b[39;00m\n\u001b[0;32m   4834\u001b[0m \u001b[38;5;28;01melse\u001b[39;00m:\n",
      "File \u001b[1;32mc:\\Users\\leahc\\anaconda3\\Lib\\site-packages\\pandas\\core\\indexes\\base.py:7070\u001b[0m, in \u001b[0;36mIndex.drop\u001b[1;34m(self, labels, errors)\u001b[0m\n\u001b[0;32m   7068\u001b[0m \u001b[38;5;28;01mif\u001b[39;00m mask\u001b[38;5;241m.\u001b[39many():\n\u001b[0;32m   7069\u001b[0m     \u001b[38;5;28;01mif\u001b[39;00m errors \u001b[38;5;241m!=\u001b[39m \u001b[38;5;124m\"\u001b[39m\u001b[38;5;124mignore\u001b[39m\u001b[38;5;124m\"\u001b[39m:\n\u001b[1;32m-> 7070\u001b[0m         \u001b[38;5;28;01mraise\u001b[39;00m \u001b[38;5;167;01mKeyError\u001b[39;00m(\u001b[38;5;124mf\u001b[39m\u001b[38;5;124m\"\u001b[39m\u001b[38;5;132;01m{\u001b[39;00mlabels[mask]\u001b[38;5;241m.\u001b[39mtolist()\u001b[38;5;132;01m}\u001b[39;00m\u001b[38;5;124m not found in axis\u001b[39m\u001b[38;5;124m\"\u001b[39m)\n\u001b[0;32m   7071\u001b[0m     indexer \u001b[38;5;241m=\u001b[39m indexer[\u001b[38;5;241m~\u001b[39mmask]\n\u001b[0;32m   7072\u001b[0m \u001b[38;5;28;01mreturn\u001b[39;00m \u001b[38;5;28mself\u001b[39m\u001b[38;5;241m.\u001b[39mdelete(indexer)\n",
      "\u001b[1;31mKeyError\u001b[0m: \"['Code'] not found in axis\""
     ]
    }
   ],
   "source": [
    "df1.drop(\"Code\", axis=1, inplace=True)\n",
    "df1 = df1[~((df1[\"Jahr\"] >= 1880) & (df1[\"Jahr\"] <= 1999))]\n",
    "df1.head()"
   ]
  },
  {
   "cell_type": "code",
   "execution_count": null,
   "id": "b92e8d34",
   "metadata": {},
   "outputs": [
    {
     "data": {
      "text/html": [
       "<div>\n",
       "<style scoped>\n",
       "    .dataframe tbody tr th:only-of-type {\n",
       "        vertical-align: middle;\n",
       "    }\n",
       "\n",
       "    .dataframe tbody tr th {\n",
       "        vertical-align: top;\n",
       "    }\n",
       "\n",
       "    .dataframe thead th {\n",
       "        text-align: right;\n",
       "    }\n",
       "</style>\n",
       "<table border=\"1\" class=\"dataframe\">\n",
       "  <thead>\n",
       "    <tr style=\"text-align: right;\">\n",
       "      <th></th>\n",
       "      <th>Land</th>\n",
       "      <th>Jahr</th>\n",
       "      <th>Selbstgetragene Gesundheitsausgaben</th>\n",
       "    </tr>\n",
       "  </thead>\n",
       "  <tbody>\n",
       "    <tr>\n",
       "      <th>0</th>\n",
       "      <td>Afghanistan</td>\n",
       "      <td>2002</td>\n",
       "      <td>85.375600</td>\n",
       "    </tr>\n",
       "    <tr>\n",
       "      <th>1</th>\n",
       "      <td>Afghanistan</td>\n",
       "      <td>2003</td>\n",
       "      <td>86.069190</td>\n",
       "    </tr>\n",
       "    <tr>\n",
       "      <th>2</th>\n",
       "      <td>Afghanistan</td>\n",
       "      <td>2004</td>\n",
       "      <td>84.527590</td>\n",
       "    </tr>\n",
       "    <tr>\n",
       "      <th>3</th>\n",
       "      <td>Afghanistan</td>\n",
       "      <td>2005</td>\n",
       "      <td>78.970085</td>\n",
       "    </tr>\n",
       "    <tr>\n",
       "      <th>4</th>\n",
       "      <td>Afghanistan</td>\n",
       "      <td>2006</td>\n",
       "      <td>76.824974</td>\n",
       "    </tr>\n",
       "  </tbody>\n",
       "</table>\n",
       "</div>"
      ],
      "text/plain": [
       "          Land  Jahr  Selbstgetragene Gesundheitsausgaben\n",
       "0  Afghanistan  2002                            85.375600\n",
       "1  Afghanistan  2003                            86.069190\n",
       "2  Afghanistan  2004                            84.527590\n",
       "3  Afghanistan  2005                            78.970085\n",
       "4  Afghanistan  2006                            76.824974"
      ]
     },
     "execution_count": 34,
     "metadata": {},
     "output_type": "execute_result"
    }
   ],
   "source": [
    "df2 = pd.read_csv(\"share-of-out-of-pocket-expenditure-on-healthcare.csv\", skiprows=1, \n",
    "                 names=[\"Land\", \"Code\", \"Jahr\", \"Selbstgetragene Gesundheitsausgaben\"])\n",
    "df2.drop(\"Code\", axis=1, inplace=True)\n",
    "df2.head()"
   ]
  }
 ],
 "metadata": {
  "kernelspec": {
   "display_name": "base",
   "language": "python",
   "name": "python3"
  },
  "language_info": {
   "codemirror_mode": {
    "name": "ipython",
    "version": 3
   },
   "file_extension": ".py",
   "mimetype": "text/x-python",
   "name": "python",
   "nbconvert_exporter": "python",
   "pygments_lexer": "ipython3",
   "version": "3.12.4"
  }
 },
 "nbformat": 4,
 "nbformat_minor": 5
}
