{
 "cells": [
  {
   "cell_type": "markdown",
   "id": "2341b96f",
   "metadata": {},
   "source": [
    "- ## Gesundheitskosten im Vergleich: Out of Pocket vs. öffentliche Ausgaben \n"
   ]
  },
  {
   "cell_type": "markdown",
   "id": "f9e9bf68",
   "metadata": {},
   "source": [
    "### Gruppe: Ana Maria Andrade, Isla Ferris , Leah Cosslett\n",
    "### Fragestellungen:\n",
    "- \" 1. Gibt es eine inverse Beziehung zwischen öffentlichen Ausgaben und Out-of-Pocket-Ausgaben? \"\n",
    "- \" 2. In welchen Ländern gibt es ein Gleichgewicht oder extreme Unterschiede? \"   \n",
    "### Datenquelle:\n",
    "\n",
    "- https://ourworldindata.org/financing-healthcare\n",
    "\n",
    "\n",
    "\n"
   ]
  },
  {
   "cell_type": "markdown",
   "metadata": {},
   "source": [
    "### 1.4 Daten beschaffen und laden"
   ]
  },
  {
   "cell_type": "code",
   "execution_count": 47,
   "id": "a27050af",
   "metadata": {},
   "outputs": [],
   "source": [
    "#  Bibliotheken laden \n",
    "\n",
    "import pandas as pd\n",
    "import seaborn as sns\n",
    "from matplotlib import pyplot as plt"
   ]
  },
  {
   "cell_type": "code",
   "execution_count": 3,
   "id": "47a24830",
   "metadata": {},
   "outputs": [
    {
     "data": {
      "text/html": [
       "<div>\n",
       "<style scoped>\n",
       "    .dataframe tbody tr th:only-of-type {\n",
       "        vertical-align: middle;\n",
       "    }\n",
       "\n",
       "    .dataframe tbody tr th {\n",
       "        vertical-align: top;\n",
       "    }\n",
       "\n",
       "    .dataframe thead th {\n",
       "        text-align: right;\n",
       "    }\n",
       "</style>\n",
       "<table border=\"1\" class=\"dataframe\">\n",
       "  <thead>\n",
       "    <tr style=\"text-align: right;\">\n",
       "      <th></th>\n",
       "      <th>Gebiet</th>\n",
       "      <th>Code1</th>\n",
       "      <th>Jahr</th>\n",
       "      <th>öffentliche Gesundheitsausgaben</th>\n",
       "    </tr>\n",
       "  </thead>\n",
       "  <tbody>\n",
       "    <tr>\n",
       "      <th>0</th>\n",
       "      <td>Albania</td>\n",
       "      <td>ALB</td>\n",
       "      <td>2010</td>\n",
       "      <td>2.442</td>\n",
       "    </tr>\n",
       "    <tr>\n",
       "      <th>1</th>\n",
       "      <td>Albania</td>\n",
       "      <td>ALB</td>\n",
       "      <td>2011</td>\n",
       "      <td>2.387</td>\n",
       "    </tr>\n",
       "    <tr>\n",
       "      <th>2</th>\n",
       "      <td>Albania</td>\n",
       "      <td>ALB</td>\n",
       "      <td>2012</td>\n",
       "      <td>2.474</td>\n",
       "    </tr>\n",
       "    <tr>\n",
       "      <th>3</th>\n",
       "      <td>Albania</td>\n",
       "      <td>ALB</td>\n",
       "      <td>2013</td>\n",
       "      <td>2.605</td>\n",
       "    </tr>\n",
       "    <tr>\n",
       "      <th>4</th>\n",
       "      <td>Albania</td>\n",
       "      <td>ALB</td>\n",
       "      <td>2014</td>\n",
       "      <td>2.617</td>\n",
       "    </tr>\n",
       "  </tbody>\n",
       "</table>\n",
       "</div>"
      ],
      "text/plain": [
       "    Gebiet Code1  Jahr  öffentliche Gesundheitsausgaben\n",
       "0  Albania   ALB  2010                            2.442\n",
       "1  Albania   ALB  2011                            2.387\n",
       "2  Albania   ALB  2012                            2.474\n",
       "3  Albania   ALB  2013                            2.605\n",
       "4  Albania   ALB  2014                            2.617"
      ]
     },
     "execution_count": 3,
     "metadata": {},
     "output_type": "execute_result"
    }
   ],
   "source": [
    "# Datenset 1: Öffentliche Gesundheitsausgaben importieren\n",
    "df1 = pd.read_csv(\"public-health-expenditure-share-gdp.csv\", skiprows=1, \n",
    "                 names=[\"Gebiet\", \"Code1\", \"Jahr\", \"öffentliche Gesundheitsausgaben\"])\n",
    "df1.head()"
   ]
  },
  {
   "cell_type": "code",
   "execution_count": 4,
   "id": "0e1bdacd",
   "metadata": {},
   "outputs": [
    {
     "data": {
      "text/html": [
       "<div>\n",
       "<style scoped>\n",
       "    .dataframe tbody tr th:only-of-type {\n",
       "        vertical-align: middle;\n",
       "    }\n",
       "\n",
       "    .dataframe tbody tr th {\n",
       "        vertical-align: top;\n",
       "    }\n",
       "\n",
       "    .dataframe thead th {\n",
       "        text-align: right;\n",
       "    }\n",
       "</style>\n",
       "<table border=\"1\" class=\"dataframe\">\n",
       "  <thead>\n",
       "    <tr style=\"text-align: right;\">\n",
       "      <th></th>\n",
       "      <th>Gebiet</th>\n",
       "      <th>Code2</th>\n",
       "      <th>Jahr</th>\n",
       "      <th>Selbstgetragene Gesundheitsausgaben</th>\n",
       "    </tr>\n",
       "  </thead>\n",
       "  <tbody>\n",
       "    <tr>\n",
       "      <th>0</th>\n",
       "      <td>Afghanistan</td>\n",
       "      <td>AFG</td>\n",
       "      <td>2002</td>\n",
       "      <td>85.375600</td>\n",
       "    </tr>\n",
       "    <tr>\n",
       "      <th>1</th>\n",
       "      <td>Afghanistan</td>\n",
       "      <td>AFG</td>\n",
       "      <td>2003</td>\n",
       "      <td>86.069190</td>\n",
       "    </tr>\n",
       "    <tr>\n",
       "      <th>2</th>\n",
       "      <td>Afghanistan</td>\n",
       "      <td>AFG</td>\n",
       "      <td>2004</td>\n",
       "      <td>84.527590</td>\n",
       "    </tr>\n",
       "    <tr>\n",
       "      <th>3</th>\n",
       "      <td>Afghanistan</td>\n",
       "      <td>AFG</td>\n",
       "      <td>2005</td>\n",
       "      <td>78.970085</td>\n",
       "    </tr>\n",
       "    <tr>\n",
       "      <th>4</th>\n",
       "      <td>Afghanistan</td>\n",
       "      <td>AFG</td>\n",
       "      <td>2006</td>\n",
       "      <td>76.824974</td>\n",
       "    </tr>\n",
       "  </tbody>\n",
       "</table>\n",
       "</div>"
      ],
      "text/plain": [
       "        Gebiet Code2  Jahr  Selbstgetragene Gesundheitsausgaben\n",
       "0  Afghanistan   AFG  2002                            85.375600\n",
       "1  Afghanistan   AFG  2003                            86.069190\n",
       "2  Afghanistan   AFG  2004                            84.527590\n",
       "3  Afghanistan   AFG  2005                            78.970085\n",
       "4  Afghanistan   AFG  2006                            76.824974"
      ]
     },
     "execution_count": 4,
     "metadata": {},
     "output_type": "execute_result"
    }
   ],
   "source": [
    "# Datenset 2: Selbstgetragene Gesundheitskosten importieren\n",
    "df2 = pd.read_csv(\"share-of-out-of-pocket-expenditure-on-healthcare.csv\", skiprows=1, \n",
    "                 names=[\"Gebiet\", \"Code2\", \"Jahr\", \"Selbstgetragene Gesundheitsausgaben\"])\n",
    "df2.head()"
   ]
  },
  {
   "cell_type": "markdown",
   "id": "25d1e798",
   "metadata": {},
   "source": [
    "## 2. Daten vorbereiten \n",
    "- Die Daten sind schon im Long-Format\n",
    "- Für die Analyse werden die beiden Datensets pivotiert. Jede Spalte repräsentiert ein Jahr und jeder Zeile einen Gebiet in alphabetische Ordnung."
   ]
  },
  {
   "cell_type": "code",
   "execution_count": 5,
   "id": "7f4fefb8",
   "metadata": {},
   "outputs": [
    {
     "data": {
      "text/html": [
       "<div>\n",
       "<style scoped>\n",
       "    .dataframe tbody tr th:only-of-type {\n",
       "        vertical-align: middle;\n",
       "    }\n",
       "\n",
       "    .dataframe tbody tr th {\n",
       "        vertical-align: top;\n",
       "    }\n",
       "\n",
       "    .dataframe thead th {\n",
       "        text-align: right;\n",
       "    }\n",
       "</style>\n",
       "<table border=\"1\" class=\"dataframe\">\n",
       "  <thead>\n",
       "    <tr style=\"text-align: right;\">\n",
       "      <th>Jahr</th>\n",
       "      <th>1880</th>\n",
       "      <th>1890</th>\n",
       "      <th>1900</th>\n",
       "      <th>1910</th>\n",
       "      <th>1920</th>\n",
       "      <th>1930</th>\n",
       "      <th>1960</th>\n",
       "      <th>1961</th>\n",
       "      <th>1962</th>\n",
       "      <th>1963</th>\n",
       "      <th>...</th>\n",
       "      <th>2012</th>\n",
       "      <th>2013</th>\n",
       "      <th>2014</th>\n",
       "      <th>2015</th>\n",
       "      <th>2016</th>\n",
       "      <th>2017</th>\n",
       "      <th>2018</th>\n",
       "      <th>2019</th>\n",
       "      <th>2020</th>\n",
       "      <th>2021</th>\n",
       "    </tr>\n",
       "    <tr>\n",
       "      <th>Gebiet</th>\n",
       "      <th></th>\n",
       "      <th></th>\n",
       "      <th></th>\n",
       "      <th></th>\n",
       "      <th></th>\n",
       "      <th></th>\n",
       "      <th></th>\n",
       "      <th></th>\n",
       "      <th></th>\n",
       "      <th></th>\n",
       "      <th></th>\n",
       "      <th></th>\n",
       "      <th></th>\n",
       "      <th></th>\n",
       "      <th></th>\n",
       "      <th></th>\n",
       "      <th></th>\n",
       "      <th></th>\n",
       "      <th></th>\n",
       "      <th></th>\n",
       "      <th></th>\n",
       "    </tr>\n",
       "  </thead>\n",
       "  <tbody>\n",
       "    <tr>\n",
       "      <th>Albania</th>\n",
       "      <td>NaN</td>\n",
       "      <td>NaN</td>\n",
       "      <td>NaN</td>\n",
       "      <td>NaN</td>\n",
       "      <td>NaN</td>\n",
       "      <td>NaN</td>\n",
       "      <td>NaN</td>\n",
       "      <td>NaN</td>\n",
       "      <td>NaN</td>\n",
       "      <td>NaN</td>\n",
       "      <td>...</td>\n",
       "      <td>2.474</td>\n",
       "      <td>2.605</td>\n",
       "      <td>2.617</td>\n",
       "      <td>2.755</td>\n",
       "      <td>2.842</td>\n",
       "      <td>2.762</td>\n",
       "      <td>2.878</td>\n",
       "      <td>NaN</td>\n",
       "      <td>NaN</td>\n",
       "      <td>NaN</td>\n",
       "    </tr>\n",
       "    <tr>\n",
       "      <th>Argentina</th>\n",
       "      <td>NaN</td>\n",
       "      <td>NaN</td>\n",
       "      <td>NaN</td>\n",
       "      <td>NaN</td>\n",
       "      <td>NaN</td>\n",
       "      <td>NaN</td>\n",
       "      <td>NaN</td>\n",
       "      <td>NaN</td>\n",
       "      <td>NaN</td>\n",
       "      <td>NaN</td>\n",
       "      <td>...</td>\n",
       "      <td>6.144</td>\n",
       "      <td>6.264</td>\n",
       "      <td>6.361</td>\n",
       "      <td>6.853</td>\n",
       "      <td>5.619</td>\n",
       "      <td>6.644</td>\n",
       "      <td>5.965</td>\n",
       "      <td>5.954</td>\n",
       "      <td>NaN</td>\n",
       "      <td>NaN</td>\n",
       "    </tr>\n",
       "    <tr>\n",
       "      <th>Australia</th>\n",
       "      <td>0.00</td>\n",
       "      <td>0.00</td>\n",
       "      <td>0.00</td>\n",
       "      <td>0.38</td>\n",
       "      <td>0.57</td>\n",
       "      <td>0.44</td>\n",
       "      <td>1.913670</td>\n",
       "      <td>2.092822</td>\n",
       "      <td>2.231257</td>\n",
       "      <td>2.141681</td>\n",
       "      <td>...</td>\n",
       "      <td>5.859</td>\n",
       "      <td>5.685</td>\n",
       "      <td>6.658</td>\n",
       "      <td>6.985</td>\n",
       "      <td>6.942</td>\n",
       "      <td>6.991</td>\n",
       "      <td>7.009</td>\n",
       "      <td>7.361</td>\n",
       "      <td>7.612</td>\n",
       "      <td>NaN</td>\n",
       "    </tr>\n",
       "    <tr>\n",
       "      <th>Austria</th>\n",
       "      <td>0.00</td>\n",
       "      <td>0.00</td>\n",
       "      <td>0.00</td>\n",
       "      <td>0.00</td>\n",
       "      <td>0.00</td>\n",
       "      <td>0.00</td>\n",
       "      <td>2.635009</td>\n",
       "      <td>2.660758</td>\n",
       "      <td>2.703673</td>\n",
       "      <td>2.780921</td>\n",
       "      <td>...</td>\n",
       "      <td>7.617</td>\n",
       "      <td>7.612</td>\n",
       "      <td>7.673</td>\n",
       "      <td>7.678</td>\n",
       "      <td>7.657</td>\n",
       "      <td>7.686</td>\n",
       "      <td>7.724</td>\n",
       "      <td>7.865</td>\n",
       "      <td>8.772</td>\n",
       "      <td>9.555</td>\n",
       "    </tr>\n",
       "    <tr>\n",
       "      <th>Belgium</th>\n",
       "      <td>0.06</td>\n",
       "      <td>0.11</td>\n",
       "      <td>0.12</td>\n",
       "      <td>0.18</td>\n",
       "      <td>0.21</td>\n",
       "      <td>0.09</td>\n",
       "      <td>1.683308</td>\n",
       "      <td>1.707128</td>\n",
       "      <td>1.730949</td>\n",
       "      <td>1.850051</td>\n",
       "      <td>...</td>\n",
       "      <td>8.033</td>\n",
       "      <td>8.040</td>\n",
       "      <td>8.079</td>\n",
       "      <td>8.265</td>\n",
       "      <td>8.305</td>\n",
       "      <td>8.304</td>\n",
       "      <td>8.337</td>\n",
       "      <td>8.107</td>\n",
       "      <td>8.491</td>\n",
       "      <td>NaN</td>\n",
       "    </tr>\n",
       "  </tbody>\n",
       "</table>\n",
       "<p>5 rows × 68 columns</p>\n",
       "</div>"
      ],
      "text/plain": [
       "Jahr       1880  1890  1900  1910  1920  1930      1960      1961      1962  \\\n",
       "Gebiet                                                                        \n",
       "Albania     NaN   NaN   NaN   NaN   NaN   NaN       NaN       NaN       NaN   \n",
       "Argentina   NaN   NaN   NaN   NaN   NaN   NaN       NaN       NaN       NaN   \n",
       "Australia  0.00  0.00  0.00  0.38  0.57  0.44  1.913670  2.092822  2.231257   \n",
       "Austria    0.00  0.00  0.00  0.00  0.00  0.00  2.635009  2.660758  2.703673   \n",
       "Belgium    0.06  0.11  0.12  0.18  0.21  0.09  1.683308  1.707128  1.730949   \n",
       "\n",
       "Jahr           1963  ...   2012   2013   2014   2015   2016   2017   2018  \\\n",
       "Gebiet               ...                                                    \n",
       "Albania         NaN  ...  2.474  2.605  2.617  2.755  2.842  2.762  2.878   \n",
       "Argentina       NaN  ...  6.144  6.264  6.361  6.853  5.619  6.644  5.965   \n",
       "Australia  2.141681  ...  5.859  5.685  6.658  6.985  6.942  6.991  7.009   \n",
       "Austria    2.780921  ...  7.617  7.612  7.673  7.678  7.657  7.686  7.724   \n",
       "Belgium    1.850051  ...  8.033  8.040  8.079  8.265  8.305  8.304  8.337   \n",
       "\n",
       "Jahr        2019   2020   2021  \n",
       "Gebiet                          \n",
       "Albania      NaN    NaN    NaN  \n",
       "Argentina  5.954    NaN    NaN  \n",
       "Australia  7.361  7.612    NaN  \n",
       "Austria    7.865  8.772  9.555  \n",
       "Belgium    8.107  8.491    NaN  \n",
       "\n",
       "[5 rows x 68 columns]"
      ]
     },
     "execution_count": 5,
     "metadata": {},
     "output_type": "execute_result"
    }
   ],
   "source": [
    "# Vorbereitung Datenset 1: Öffentliche Gesundheitsausgaben\n",
    "df1_pivot = df1.pivot(index=\"Gebiet\", columns=\"Jahr\", values=\"öffentliche Gesundheitsausgaben\")\n",
    "df1_pivot.head()"
   ]
  },
  {
   "cell_type": "code",
   "execution_count": 6,
   "id": "fd365ae0",
   "metadata": {},
   "outputs": [
    {
     "data": {
      "text/html": [
       "<div>\n",
       "<style scoped>\n",
       "    .dataframe tbody tr th:only-of-type {\n",
       "        vertical-align: middle;\n",
       "    }\n",
       "\n",
       "    .dataframe tbody tr th {\n",
       "        vertical-align: top;\n",
       "    }\n",
       "\n",
       "    .dataframe thead th {\n",
       "        text-align: right;\n",
       "    }\n",
       "</style>\n",
       "<table border=\"1\" class=\"dataframe\">\n",
       "  <thead>\n",
       "    <tr style=\"text-align: right;\">\n",
       "      <th>Jahr</th>\n",
       "      <th>2000</th>\n",
       "      <th>2001</th>\n",
       "      <th>2002</th>\n",
       "      <th>2003</th>\n",
       "      <th>2004</th>\n",
       "      <th>2005</th>\n",
       "      <th>2006</th>\n",
       "      <th>2007</th>\n",
       "      <th>2008</th>\n",
       "      <th>2009</th>\n",
       "      <th>...</th>\n",
       "      <th>2012</th>\n",
       "      <th>2013</th>\n",
       "      <th>2014</th>\n",
       "      <th>2015</th>\n",
       "      <th>2016</th>\n",
       "      <th>2017</th>\n",
       "      <th>2018</th>\n",
       "      <th>2019</th>\n",
       "      <th>2020</th>\n",
       "      <th>2021</th>\n",
       "    </tr>\n",
       "    <tr>\n",
       "      <th>Gebiet</th>\n",
       "      <th></th>\n",
       "      <th></th>\n",
       "      <th></th>\n",
       "      <th></th>\n",
       "      <th></th>\n",
       "      <th></th>\n",
       "      <th></th>\n",
       "      <th></th>\n",
       "      <th></th>\n",
       "      <th></th>\n",
       "      <th></th>\n",
       "      <th></th>\n",
       "      <th></th>\n",
       "      <th></th>\n",
       "      <th></th>\n",
       "      <th></th>\n",
       "      <th></th>\n",
       "      <th></th>\n",
       "      <th></th>\n",
       "      <th></th>\n",
       "      <th></th>\n",
       "    </tr>\n",
       "  </thead>\n",
       "  <tbody>\n",
       "    <tr>\n",
       "      <th>Afghanistan</th>\n",
       "      <td>NaN</td>\n",
       "      <td>NaN</td>\n",
       "      <td>85.375600</td>\n",
       "      <td>86.069190</td>\n",
       "      <td>84.527590</td>\n",
       "      <td>78.970085</td>\n",
       "      <td>76.824974</td>\n",
       "      <td>78.169980</td>\n",
       "      <td>75.403390</td>\n",
       "      <td>72.779240</td>\n",
       "      <td>...</td>\n",
       "      <td>74.486206</td>\n",
       "      <td>72.047860</td>\n",
       "      <td>73.055920</td>\n",
       "      <td>78.382290</td>\n",
       "      <td>75.974335</td>\n",
       "      <td>75.482580</td>\n",
       "      <td>76.223020</td>\n",
       "      <td>76.818370</td>\n",
       "      <td>74.813965</td>\n",
       "      <td>77.21405</td>\n",
       "    </tr>\n",
       "    <tr>\n",
       "      <th>Albania</th>\n",
       "      <td>51.814300</td>\n",
       "      <td>49.128300</td>\n",
       "      <td>50.855670</td>\n",
       "      <td>47.601320</td>\n",
       "      <td>47.047787</td>\n",
       "      <td>48.436172</td>\n",
       "      <td>48.580803</td>\n",
       "      <td>51.285343</td>\n",
       "      <td>56.224728</td>\n",
       "      <td>57.505250</td>\n",
       "      <td>...</td>\n",
       "      <td>58.832058</td>\n",
       "      <td>57.825634</td>\n",
       "      <td>59.115170</td>\n",
       "      <td>57.168310</td>\n",
       "      <td>57.053867</td>\n",
       "      <td>57.464123</td>\n",
       "      <td>56.489650</td>\n",
       "      <td>NaN</td>\n",
       "      <td>NaN</td>\n",
       "      <td>NaN</td>\n",
       "    </tr>\n",
       "    <tr>\n",
       "      <th>Algeria</th>\n",
       "      <td>25.794514</td>\n",
       "      <td>21.668524</td>\n",
       "      <td>22.524883</td>\n",
       "      <td>21.148638</td>\n",
       "      <td>26.094326</td>\n",
       "      <td>28.093613</td>\n",
       "      <td>29.121359</td>\n",
       "      <td>28.088581</td>\n",
       "      <td>26.146960</td>\n",
       "      <td>27.449507</td>\n",
       "      <td>...</td>\n",
       "      <td>25.715908</td>\n",
       "      <td>27.561977</td>\n",
       "      <td>26.658457</td>\n",
       "      <td>28.208338</td>\n",
       "      <td>30.883596</td>\n",
       "      <td>32.535194</td>\n",
       "      <td>32.628517</td>\n",
       "      <td>33.399155</td>\n",
       "      <td>35.804718</td>\n",
       "      <td>NaN</td>\n",
       "    </tr>\n",
       "    <tr>\n",
       "      <th>Andorra</th>\n",
       "      <td>15.397888</td>\n",
       "      <td>15.555239</td>\n",
       "      <td>15.046601</td>\n",
       "      <td>16.053387</td>\n",
       "      <td>16.933514</td>\n",
       "      <td>15.962100</td>\n",
       "      <td>17.888039</td>\n",
       "      <td>17.996744</td>\n",
       "      <td>15.578386</td>\n",
       "      <td>14.393357</td>\n",
       "      <td>...</td>\n",
       "      <td>13.563203</td>\n",
       "      <td>13.268412</td>\n",
       "      <td>12.671029</td>\n",
       "      <td>12.910532</td>\n",
       "      <td>12.377317</td>\n",
       "      <td>11.934806</td>\n",
       "      <td>12.246914</td>\n",
       "      <td>12.595785</td>\n",
       "      <td>10.925110</td>\n",
       "      <td>NaN</td>\n",
       "    </tr>\n",
       "    <tr>\n",
       "      <th>Angola</th>\n",
       "      <td>27.304688</td>\n",
       "      <td>45.091087</td>\n",
       "      <td>49.662052</td>\n",
       "      <td>48.510690</td>\n",
       "      <td>46.891098</td>\n",
       "      <td>42.332657</td>\n",
       "      <td>30.665700</td>\n",
       "      <td>28.383972</td>\n",
       "      <td>21.653238</td>\n",
       "      <td>15.508905</td>\n",
       "      <td>...</td>\n",
       "      <td>17.619177</td>\n",
       "      <td>21.349277</td>\n",
       "      <td>26.876167</td>\n",
       "      <td>33.523167</td>\n",
       "      <td>35.208930</td>\n",
       "      <td>34.121014</td>\n",
       "      <td>36.264200</td>\n",
       "      <td>37.887154</td>\n",
       "      <td>37.144620</td>\n",
       "      <td>NaN</td>\n",
       "    </tr>\n",
       "  </tbody>\n",
       "</table>\n",
       "<p>5 rows × 22 columns</p>\n",
       "</div>"
      ],
      "text/plain": [
       "Jahr              2000       2001       2002       2003       2004       2005  \\\n",
       "Gebiet                                                                          \n",
       "Afghanistan        NaN        NaN  85.375600  86.069190  84.527590  78.970085   \n",
       "Albania      51.814300  49.128300  50.855670  47.601320  47.047787  48.436172   \n",
       "Algeria      25.794514  21.668524  22.524883  21.148638  26.094326  28.093613   \n",
       "Andorra      15.397888  15.555239  15.046601  16.053387  16.933514  15.962100   \n",
       "Angola       27.304688  45.091087  49.662052  48.510690  46.891098  42.332657   \n",
       "\n",
       "Jahr              2006       2007       2008       2009  ...       2012  \\\n",
       "Gebiet                                                   ...              \n",
       "Afghanistan  76.824974  78.169980  75.403390  72.779240  ...  74.486206   \n",
       "Albania      48.580803  51.285343  56.224728  57.505250  ...  58.832058   \n",
       "Algeria      29.121359  28.088581  26.146960  27.449507  ...  25.715908   \n",
       "Andorra      17.888039  17.996744  15.578386  14.393357  ...  13.563203   \n",
       "Angola       30.665700  28.383972  21.653238  15.508905  ...  17.619177   \n",
       "\n",
       "Jahr              2013       2014       2015       2016       2017       2018  \\\n",
       "Gebiet                                                                          \n",
       "Afghanistan  72.047860  73.055920  78.382290  75.974335  75.482580  76.223020   \n",
       "Albania      57.825634  59.115170  57.168310  57.053867  57.464123  56.489650   \n",
       "Algeria      27.561977  26.658457  28.208338  30.883596  32.535194  32.628517   \n",
       "Andorra      13.268412  12.671029  12.910532  12.377317  11.934806  12.246914   \n",
       "Angola       21.349277  26.876167  33.523167  35.208930  34.121014  36.264200   \n",
       "\n",
       "Jahr              2019       2020      2021  \n",
       "Gebiet                                       \n",
       "Afghanistan  76.818370  74.813965  77.21405  \n",
       "Albania            NaN        NaN       NaN  \n",
       "Algeria      33.399155  35.804718       NaN  \n",
       "Andorra      12.595785  10.925110       NaN  \n",
       "Angola       37.887154  37.144620       NaN  \n",
       "\n",
       "[5 rows x 22 columns]"
      ]
     },
     "execution_count": 6,
     "metadata": {},
     "output_type": "execute_result"
    }
   ],
   "source": [
    "#Vorbereitung Datenset 2: Selbstgetragene Gesundheitsausgaben\n",
    "df2_pivot = df2.pivot(index=\"Gebiet\", columns=\"Jahr\", values=\"Selbstgetragene Gesundheitsausgaben\")\n",
    "df2_pivot.head()"
   ]
  },
  {
   "cell_type": "markdown",
   "id": "28195847",
   "metadata": {},
   "source": [
    "## 3. Statistik der Rohdaten (Analyse im Long-Format)\n",
    "- Ist meine Variable kontinuierlich oder diskret? Falls diskret, wieviele einzigartige Klassen gibt es? Wieviele Datenpunkte pro Klasse sind vorhanden?\n",
    "- Anzahl Datenpunkte (Beschreibend und Graphische Darstellung)\n",
    "    - Wieviele Datenpunkte sind für die bestimmten Variabeln vorhanden?\n",
    "    - Wo fehlen Datenpunkte?\n",
    "- Wie ist die Verteilung der zu untersuchenden Variabel(n) (Histogram, Boxplot, Säulendiagram)\n",
    "- Vermutest du Zusammenhänge zwischen zwei Variabeln (Streuungsdiagramm, Korrelationsmatrix)\n",
    "\n"
   ]
  },
  {
   "cell_type": "code",
   "execution_count": 7,
   "id": "f1f52189",
   "metadata": {},
   "outputs": [
    {
     "data": {
      "text/plain": [
       "Gebiet                              object\n",
       "Code1                               object\n",
       "Jahr                                 int64\n",
       "öffentliche Gesundheitsausgaben    float64\n",
       "dtype: object"
      ]
     },
     "execution_count": 7,
     "metadata": {},
     "output_type": "execute_result"
    }
   ],
   "source": [
    "df1.dtypes\n"
   ]
  },
  {
   "cell_type": "code",
   "execution_count": 8,
   "id": "0e40e9a2",
   "metadata": {},
   "outputs": [
    {
     "data": {
      "text/plain": [
       "Gebiet                                  object\n",
       "Code2                                   object\n",
       "Jahr                                     int64\n",
       "Selbstgetragene Gesundheitsausgaben    float64\n",
       "dtype: object"
      ]
     },
     "execution_count": 8,
     "metadata": {},
     "output_type": "execute_result"
    }
   ],
   "source": [
    "df2.dtypes"
   ]
  },
  {
   "cell_type": "markdown",
   "id": "63e05726",
   "metadata": {},
   "source": [
    "### 3.1 Analyse Gebiete"
   ]
  },
  {
   "cell_type": "code",
   "execution_count": 9,
   "id": "ed014c37",
   "metadata": {},
   "outputs": [
    {
     "name": "stdout",
     "output_type": "stream",
     "text": [
      "Anzahl Länder öffentliche Gesundheitsausgaben:  53\n",
      "Anzahl Länder Selbstgetragene Gesundheitsausgaben:  204\n"
     ]
    }
   ],
   "source": [
    "# Anzahl Gebiete pro Datensatz\n",
    "nCountries = len(df1[\"Gebiet\"].unique())\n",
    "\n",
    "print(\"Anzahl Länder öffentliche Gesundheitsausgaben: \", nCountries)\n",
    "\n",
    "nCountries = len(df2[\"Gebiet\"].unique())\n",
    "\n",
    "print(\"Anzahl Länder Selbstgetragene Gesundheitsausgaben: \", nCountries)"
   ]
  },
  {
   "cell_type": "code",
   "execution_count": 10,
   "id": "b202b7ce",
   "metadata": {},
   "outputs": [
    {
     "data": {
      "text/plain": [
       "Gebiet\n",
       "Italy              68\n",
       "Denmark            68\n",
       "United Kingdom     68\n",
       "Austria            68\n",
       "Sweden             68\n",
       "Norway             68\n",
       "Canada             68\n",
       "New Zealand        67\n",
       "Netherlands        67\n",
       "Japan              67\n",
       "Greece             67\n",
       "Germany            67\n",
       "France             67\n",
       "Finland            67\n",
       "United States      67\n",
       "Australia          67\n",
       "Belgium            67\n",
       "Switzerland        66\n",
       "Ireland            63\n",
       "Iceland            62\n",
       "Portugal           62\n",
       "Spain              61\n",
       "Turkey             59\n",
       "South Korea        52\n",
       "Luxembourg         46\n",
       "Poland             32\n",
       "Czechia            31\n",
       "Hungary            31\n",
       "Israel             26\n",
       "Slovakia           24\n",
       "Estonia            23\n",
       "Mexico             22\n",
       "Chile              22\n",
       "Lithuania          22\n",
       "Costa Rica         21\n",
       "Latvia             21\n",
       "Colombia           21\n",
       "Slovenia           21\n",
       "China              20\n",
       "India              20\n",
       "Brazil             20\n",
       "Peru               20\n",
       "South Africa       20\n",
       "Argentina          20\n",
       "Bulgaria           18\n",
       "Romania            18\n",
       "Malta              17\n",
       "Croatia            16\n",
       "Cyprus             16\n",
       "North Macedonia    10\n",
       "Serbia             10\n",
       "Montenegro          9\n",
       "Albania             9\n",
       "Name: count, dtype: int64"
      ]
     },
     "execution_count": 10,
     "metadata": {},
     "output_type": "execute_result"
    }
   ],
   "source": [
    "#Anzahl Datenpunkte pro Gebiet: Datenset 1 Öffentliche Gesundheitsausgaben \n",
    "df1['Gebiet'].value_counts()\n"
   ]
  },
  {
   "cell_type": "code",
   "execution_count": 11,
   "id": "2e3ae28b",
   "metadata": {},
   "outputs": [
    {
     "data": {
      "text/plain": [
       "Text(0.5, 1.0, 'Anzahl Datenpunkte pro Gebiet: öffentliche Gesundheitsausgaben')"
      ]
     },
     "execution_count": 11,
     "metadata": {},
     "output_type": "execute_result"
    },
    {
     "data": {
      "image/png": "[encoded data removed]",
      "text/plain": [
       "<Figure size 640x480 with 1 Axes>"
      ]
     },
     "metadata": {},
     "output_type": "display_data"
    }
   ],
   "source": [
    "df1['Gebiet'].value_counts().plot(kind='bar', \n",
    "                                 xticks=[ ], \n",
    "                                 ylabel= 'Anzahl Datenpunkte', title='Anzahl Datenpunkte pro Gebiet: öffentliche Gesundheitsausgaben')\n",
    "plt.title('Anzahl Datenpunkte pro Gebiet: öffentliche Gesundheitsausgaben', fontweight='bold')"
   ]
  },
  {
   "cell_type": "code",
   "execution_count": 12,
   "id": "347a2b98",
   "metadata": {},
   "outputs": [
    {
     "data": {
      "text/plain": [
       "Gebiet\n",
       "South Korea    22\n",
       "Ireland        22\n",
       "Philippines    22\n",
       "Canada         22\n",
       "Luxembourg     22\n",
       "               ..\n",
       "Syria          13\n",
       "Libya          12\n",
       "Zimbabwe       11\n",
       "Montenegro     10\n",
       "South Sudan     4\n",
       "Name: count, Length: 204, dtype: int64"
      ]
     },
     "execution_count": 12,
     "metadata": {},
     "output_type": "execute_result"
    }
   ],
   "source": [
    "#Anzahl Datenpunkte pro Gebiet: Datenset 2 Selbstgetragene Gesundheitskosten \n",
    "df2['Gebiet'].value_counts()"
   ]
  },
  {
   "cell_type": "code",
   "execution_count": 13,
   "id": "c335e389",
   "metadata": {},
   "outputs": [
    {
     "data": {
      "text/plain": [
       "Text(0.5, 1.0, 'Anzahl Datenpunkte pro Gebiet: selbstgetragene Gesundheitskosten')"
      ]
     },
     "execution_count": 13,
     "metadata": {},
     "output_type": "execute_result"
    },
    {
     "data": {
      "image/png": "[encoded data removed]",
      "text/plain": [
       "<Figure size 640x480 with 1 Axes>"
      ]
     },
     "metadata": {},
     "output_type": "display_data"
    }
   ],
   "source": [
    "df2['Gebiet'].value_counts().plot(kind='bar', \n",
    "                                 xticks=[ ], \n",
    "                                 ylabel= 'Anzahl Datenpunkte',title='Anzahl Datenpunkte pro Gebiet: selbstgetragene Gesundheitskosten')\n",
    "plt.title('Anzahl Datenpunkte pro Gebiet: selbstgetragene Gesundheitskosten', fontweight='bold')"
   ]
  },
  {
   "cell_type": "markdown",
   "id": "55ccf554",
   "metadata": {},
   "source": [
    "### 3.1.2 Analyse Codes"
   ]
  },
  {
   "cell_type": "code",
   "execution_count": 14,
   "id": "d1da79ed",
   "metadata": {},
   "outputs": [
    {
     "name": "stdout",
     "output_type": "stream",
     "text": [
      "Anzahl verschiedener Codes öffentliche Gesundheitsausgaben:  53\n",
      "Anzahl verschiedener Codes selbstgetragene Gesundheitskosten:  192\n"
     ]
    }
   ],
   "source": [
    "print('Anzahl verschiedener Codes öffentliche Gesundheitsausgaben: ' , len(df1['Code1'].unique()))\n",
    "print('Anzahl verschiedener Codes selbstgetragene Gesundheitskosten: ' , len(df2['Code2'].unique()))"
   ]
  },
  {
   "cell_type": "code",
   "execution_count": 15,
   "id": "b07a0a5e",
   "metadata": {},
   "outputs": [
    {
     "name": "stdout",
     "output_type": "stream",
     "text": [
      "Countries with missing category codes:\n",
      "1050    NaN\n",
      "1051    NaN\n",
      "1052    NaN\n",
      "1053    NaN\n",
      "1054    NaN\n",
      "       ... \n",
      "4044    NaN\n",
      "4045    NaN\n",
      "4046    NaN\n",
      "4047    NaN\n",
      "4048    NaN\n",
      "Name: Code2, Length: 273, dtype: object\n"
     ]
    }
   ],
   "source": [
    "missing_data = df2[df2['Code2'].isnull()]\n",
    "missing_codes = missing_data['Code2']\n",
    "print(\"Countries with missing category codes:\")\n",
    "print(missing_codes)\n"
   ]
  },
  {
   "cell_type": "code",
   "execution_count": 16,
   "id": "59a99497",
   "metadata": {},
   "outputs": [
    {
     "data": {
      "text/html": [
       "<div>\n",
       "<style scoped>\n",
       "    .dataframe tbody tr th:only-of-type {\n",
       "        vertical-align: middle;\n",
       "    }\n",
       "\n",
       "    .dataframe tbody tr th {\n",
       "        vertical-align: top;\n",
       "    }\n",
       "\n",
       "    .dataframe thead th {\n",
       "        text-align: right;\n",
       "    }\n",
       "</style>\n",
       "<table border=\"1\" class=\"dataframe\">\n",
       "  <thead>\n",
       "    <tr style=\"text-align: right;\">\n",
       "      <th></th>\n",
       "      <th>Gebiet</th>\n",
       "      <th>Jahr</th>\n",
       "      <th>öffentliche Gesundheitsausgaben</th>\n",
       "    </tr>\n",
       "  </thead>\n",
       "  <tbody>\n",
       "    <tr>\n",
       "      <th>0</th>\n",
       "      <td>Albania</td>\n",
       "      <td>2010</td>\n",
       "      <td>2.442</td>\n",
       "    </tr>\n",
       "    <tr>\n",
       "      <th>1</th>\n",
       "      <td>Albania</td>\n",
       "      <td>2011</td>\n",
       "      <td>2.387</td>\n",
       "    </tr>\n",
       "    <tr>\n",
       "      <th>2</th>\n",
       "      <td>Albania</td>\n",
       "      <td>2012</td>\n",
       "      <td>2.474</td>\n",
       "    </tr>\n",
       "    <tr>\n",
       "      <th>3</th>\n",
       "      <td>Albania</td>\n",
       "      <td>2013</td>\n",
       "      <td>2.605</td>\n",
       "    </tr>\n",
       "    <tr>\n",
       "      <th>4</th>\n",
       "      <td>Albania</td>\n",
       "      <td>2014</td>\n",
       "      <td>2.617</td>\n",
       "    </tr>\n",
       "  </tbody>\n",
       "</table>\n",
       "</div>"
      ],
      "text/plain": [
       "    Gebiet  Jahr  öffentliche Gesundheitsausgaben\n",
       "0  Albania  2010                            2.442\n",
       "1  Albania  2011                            2.387\n",
       "2  Albania  2012                            2.474\n",
       "3  Albania  2013                            2.605\n",
       "4  Albania  2014                            2.617"
      ]
     },
     "execution_count": 16,
     "metadata": {},
     "output_type": "execute_result"
    }
   ],
   "source": [
    "#Codes werden entfernt da nicht relevant für die Fragestellung\n",
    "df1.drop(\"Code1\", axis=1, inplace=True)\n",
    "df1.head()"
   ]
  },
  {
   "cell_type": "code",
   "execution_count": 17,
   "id": "44ac0277",
   "metadata": {},
   "outputs": [
    {
     "data": {
      "text/html": [
       "<div>\n",
       "<style scoped>\n",
       "    .dataframe tbody tr th:only-of-type {\n",
       "        vertical-align: middle;\n",
       "    }\n",
       "\n",
       "    .dataframe tbody tr th {\n",
       "        vertical-align: top;\n",
       "    }\n",
       "\n",
       "    .dataframe thead th {\n",
       "        text-align: right;\n",
       "    }\n",
       "</style>\n",
       "<table border=\"1\" class=\"dataframe\">\n",
       "  <thead>\n",
       "    <tr style=\"text-align: right;\">\n",
       "      <th></th>\n",
       "      <th>Gebiet</th>\n",
       "      <th>Jahr</th>\n",
       "      <th>Selbstgetragene Gesundheitsausgaben</th>\n",
       "    </tr>\n",
       "  </thead>\n",
       "  <tbody>\n",
       "    <tr>\n",
       "      <th>0</th>\n",
       "      <td>Afghanistan</td>\n",
       "      <td>2002</td>\n",
       "      <td>85.375600</td>\n",
       "    </tr>\n",
       "    <tr>\n",
       "      <th>1</th>\n",
       "      <td>Afghanistan</td>\n",
       "      <td>2003</td>\n",
       "      <td>86.069190</td>\n",
       "    </tr>\n",
       "    <tr>\n",
       "      <th>2</th>\n",
       "      <td>Afghanistan</td>\n",
       "      <td>2004</td>\n",
       "      <td>84.527590</td>\n",
       "    </tr>\n",
       "    <tr>\n",
       "      <th>3</th>\n",
       "      <td>Afghanistan</td>\n",
       "      <td>2005</td>\n",
       "      <td>78.970085</td>\n",
       "    </tr>\n",
       "    <tr>\n",
       "      <th>4</th>\n",
       "      <td>Afghanistan</td>\n",
       "      <td>2006</td>\n",
       "      <td>76.824974</td>\n",
       "    </tr>\n",
       "  </tbody>\n",
       "</table>\n",
       "</div>"
      ],
      "text/plain": [
       "        Gebiet  Jahr  Selbstgetragene Gesundheitsausgaben\n",
       "0  Afghanistan  2002                            85.375600\n",
       "1  Afghanistan  2003                            86.069190\n",
       "2  Afghanistan  2004                            84.527590\n",
       "3  Afghanistan  2005                            78.970085\n",
       "4  Afghanistan  2006                            76.824974"
      ]
     },
     "execution_count": 17,
     "metadata": {},
     "output_type": "execute_result"
    }
   ],
   "source": [
    "#Codes werden entfernt da nicht relevant für die Fragestellung\n",
    "df2.drop(\"Code2\", axis=1, inplace=True)\n",
    "df2.head()"
   ]
  },
  {
   "cell_type": "markdown",
   "id": "51612ec2",
   "metadata": {},
   "source": [
    "### 3.2 Analyse Jahre"
   ]
  },
  {
   "cell_type": "code",
   "execution_count": 18,
   "id": "6cc7091e",
   "metadata": {},
   "outputs": [
    {
     "name": "stdout",
     "output_type": "stream",
     "text": [
      "Anzahl Jahren öffentliche Gesundheitsausgaben:  68\n",
      "Anzahl Jahren Selbstgetragene Gesundheitsausgaben:  22\n"
     ]
    }
   ],
   "source": [
    "nYears = len(df1[\"Jahr\"].unique())\n",
    "\n",
    "print(\"Anzahl Jahren öffentliche Gesundheitsausgaben: \", nYears)\n",
    "\n",
    "nYears = len(df2[\"Jahr\"].unique())\n",
    "\n",
    "print(\"Anzahl Jahren Selbstgetragene Gesundheitsausgaben: \", nYears)"
   ]
  },
  {
   "cell_type": "code",
   "execution_count": 19,
   "id": "6db8081e",
   "metadata": {},
   "outputs": [
    {
     "data": {
      "text/plain": [
       "Text(0.5, 1.0, 'Anzahl Datenpunkte pro Jahr: öffentliche Gesundheitsausgaben')"
      ]
     },
     "execution_count": 19,
     "metadata": {},
     "output_type": "execute_result"
    },
    {
     "data": {
      "image/png": "[encoded data removed]",
      "text/plain": [
       "<Figure size 640x480 with 1 Axes>"
      ]
     },
     "metadata": {},
     "output_type": "display_data"
    }
   ],
   "source": [
    "g = df1['Jahr'].value_counts().sort_index().plot(ylabel='Anzahl Datenpunkte', title='Anzahl Datenpunkte pro Jahr: öffentliche Gesundheitsausgaben')\n",
    "g.axvline(x=2000, color='red', label='Jahr 2000')\n",
    "g.legend()\n",
    "plt.title('Anzahl Datenpunkte pro Jahr: öffentliche Gesundheitsausgaben', fontweight='bold')\n"
   ]
  },
  {
   "cell_type": "code",
   "execution_count": 20,
   "id": "747faf1a",
   "metadata": {},
   "outputs": [
    {
     "data": {
      "text/plain": [
       "Text(0.5, 1.0, 'Anzahl Datenpuntkte pro Jahr: selbstgetragene Gesundheitskosten')"
      ]
     },
     "execution_count": 20,
     "metadata": {},
     "output_type": "execute_result"
    },
    {
     "data": {
      "image/png": "[encoded data removed]",
      "text/plain": [
       "<Figure size 640x480 with 1 Axes>"
      ]
     },
     "metadata": {},
     "output_type": "display_data"
    }
   ],
   "source": [
    "g = df2['Jahr'].value_counts().sort_index().plot(ylabel='Anzahl Datenpunkte', title='Anzahl Datenpuntkte pro Jahr: öffentliche Gesundheitsausgaben')\n",
    "g.axvline(x=2000, color='red', label='Jahr 2000')\n",
    "g.legend()\n",
    "plt.title('Anzahl Datenpuntkte pro Jahr: selbstgetragene Gesundheitskosten', fontweight='bold')"
   ]
  },
  {
   "cell_type": "markdown",
   "id": "a0deefe0",
   "metadata": {},
   "source": [
    "### 3.4 Analyse Kosten"
   ]
  },
  {
   "cell_type": "code",
   "execution_count": 21,
   "id": "b68162b2",
   "metadata": {},
   "outputs": [
    {
     "data": {
      "text/html": [
       "<div>\n",
       "<style scoped>\n",
       "    .dataframe tbody tr th:only-of-type {\n",
       "        vertical-align: middle;\n",
       "    }\n",
       "\n",
       "    .dataframe tbody tr th {\n",
       "        vertical-align: top;\n",
       "    }\n",
       "\n",
       "    .dataframe thead th {\n",
       "        text-align: right;\n",
       "    }\n",
       "</style>\n",
       "<table border=\"1\" class=\"dataframe\">\n",
       "  <thead>\n",
       "    <tr style=\"text-align: right;\">\n",
       "      <th></th>\n",
       "      <th>Jahr</th>\n",
       "      <th>öffentliche Gesundheitsausgaben</th>\n",
       "    </tr>\n",
       "  </thead>\n",
       "  <tbody>\n",
       "    <tr>\n",
       "      <th>count</th>\n",
       "      <td>2177.000000</td>\n",
       "      <td>2177.000000</td>\n",
       "    </tr>\n",
       "    <tr>\n",
       "      <th>mean</th>\n",
       "      <td>1991.327515</td>\n",
       "      <td>4.627465</td>\n",
       "    </tr>\n",
       "    <tr>\n",
       "      <th>std</th>\n",
       "      <td>26.330405</td>\n",
       "      <td>2.218401</td>\n",
       "    </tr>\n",
       "    <tr>\n",
       "      <th>min</th>\n",
       "      <td>1880.000000</td>\n",
       "      <td>0.000000</td>\n",
       "    </tr>\n",
       "    <tr>\n",
       "      <th>25%</th>\n",
       "      <td>1978.000000</td>\n",
       "      <td>3.246000</td>\n",
       "    </tr>\n",
       "    <tr>\n",
       "      <th>50%</th>\n",
       "      <td>1999.000000</td>\n",
       "      <td>4.712000</td>\n",
       "    </tr>\n",
       "    <tr>\n",
       "      <th>75%</th>\n",
       "      <td>2010.000000</td>\n",
       "      <td>6.029000</td>\n",
       "    </tr>\n",
       "    <tr>\n",
       "      <th>max</th>\n",
       "      <td>2021.000000</td>\n",
       "      <td>15.949000</td>\n",
       "    </tr>\n",
       "  </tbody>\n",
       "</table>\n",
       "</div>"
      ],
      "text/plain": [
       "              Jahr  öffentliche Gesundheitsausgaben\n",
       "count  2177.000000                      2177.000000\n",
       "mean   1991.327515                         4.627465\n",
       "std      26.330405                         2.218401\n",
       "min    1880.000000                         0.000000\n",
       "25%    1978.000000                         3.246000\n",
       "50%    1999.000000                         4.712000\n",
       "75%    2010.000000                         6.029000\n",
       "max    2021.000000                        15.949000"
      ]
     },
     "execution_count": 21,
     "metadata": {},
     "output_type": "execute_result"
    }
   ],
   "source": [
    "df1.describe()"
   ]
  },
  {
   "cell_type": "code",
   "execution_count": 22,
   "id": "1adfaac4",
   "metadata": {},
   "outputs": [
    {
     "data": {
      "image/png": "[encoded data removed]",
      "text/plain": [
       "<Figure size 640x480 with 1 Axes>"
      ]
     },
     "metadata": {},
     "output_type": "display_data"
    }
   ],
   "source": [
    "g = df1['öffentliche Gesundheitsausgaben'].plot(kind='hist', bins=20, title='Histogramm der öffentliche Gesundheitsausgaben', \n",
    "                                             xlabel='Gesundheitsausgaben', ylabel='Anzahl der Datenpunkte')\n",
    "mean = df1['öffentliche Gesundheitsausgaben'].mean()\n",
    "median = df1['öffentliche Gesundheitsausgaben'].median()\n",
    "g.axvline(x=mean, color='black', label=f'Mittelwert = {mean:.2f}')\n",
    "g.axvline(x=median, color='yellow', label=f'Median = {median:.2f}')\n",
    "g.legend()\n",
    "plt.title('Histogramm der öffentliche Gesundheitsausgaben', fontweight='bold')\n",
    "plt.show()\n"
   ]
  },
  {
   "cell_type": "code",
   "execution_count": 23,
   "id": "7ab6a317",
   "metadata": {},
   "outputs": [
    {
     "name": "stdout",
     "output_type": "stream",
     "text": [
      "Top 10 Countries:\n",
      "             Gebiet  öffentliche Gesundheitsausgaben\n",
      "2176  United States                           15.949\n",
      "2172  United States                           13.912\n",
      "2173  United States                           13.890\n",
      "2175  United States                           13.813\n",
      "2174  United States                           13.796\n",
      "2171  United States                           13.664\n",
      "2170  United States                           13.372\n",
      "775         Germany                           11.016\n",
      "774         Germany                           10.911\n",
      "708          France                           10.338\n"
     ]
    }
   ],
   "source": [
    "column_of_interest = 'öffentliche Gesundheitsausgaben'\n",
    "df1[column_of_interest] = pd.to_numeric(df1[column_of_interest], errors='coerce')\n",
    "df1 = df1.dropna(subset=[column_of_interest])\n",
    "top_10 = df1.nlargest(10, column_of_interest)\n",
    "lowest_10 = df1.nsmallest(10, column_of_interest)\n",
    "print(\"Top 10 Countries:\")\n",
    "print(top_10[['Gebiet', column_of_interest]]) \n"
   ]
  },
  {
   "cell_type": "code",
   "execution_count": 24,
   "id": "9da4b380",
   "metadata": {},
   "outputs": [
    {
     "name": "stdout",
     "output_type": "stream",
     "text": [
      "\n",
      "Lowest 10 Countries:\n",
      "        Gebiet  öffentliche Gesundheitsausgaben\n",
      "29   Australia                              0.0\n",
      "30   Australia                              0.0\n",
      "31   Australia                              0.0\n",
      "96     Austria                              0.0\n",
      "97     Austria                              0.0\n",
      "98     Austria                              0.0\n",
      "99     Austria                              0.0\n",
      "100    Austria                              0.0\n",
      "101    Austria                              0.0\n",
      "269     Canada                              0.0\n"
     ]
    }
   ],
   "source": [
    "print(\"\\nLowest 10 Countries:\")\n",
    "print(lowest_10[['Gebiet', column_of_interest]]) "
   ]
  },
  {
   "cell_type": "code",
   "execution_count": 25,
   "id": "3c865d09",
   "metadata": {},
   "outputs": [
    {
     "data": {
      "text/html": [
       "<div>\n",
       "<style scoped>\n",
       "    .dataframe tbody tr th:only-of-type {\n",
       "        vertical-align: middle;\n",
       "    }\n",
       "\n",
       "    .dataframe tbody tr th {\n",
       "        vertical-align: top;\n",
       "    }\n",
       "\n",
       "    .dataframe thead th {\n",
       "        text-align: right;\n",
       "    }\n",
       "</style>\n",
       "<table border=\"1\" class=\"dataframe\">\n",
       "  <thead>\n",
       "    <tr style=\"text-align: right;\">\n",
       "      <th></th>\n",
       "      <th>Jahr</th>\n",
       "      <th>Selbstgetragene Gesundheitsausgaben</th>\n",
       "    </tr>\n",
       "  </thead>\n",
       "  <tbody>\n",
       "    <tr>\n",
       "      <th>count</th>\n",
       "      <td>4223.000000</td>\n",
       "      <td>4223.000000</td>\n",
       "    </tr>\n",
       "    <tr>\n",
       "      <th>mean</th>\n",
       "      <td>2010.036467</td>\n",
       "      <td>33.644061</td>\n",
       "    </tr>\n",
       "    <tr>\n",
       "      <th>std</th>\n",
       "      <td>6.059714</td>\n",
       "      <td>19.442344</td>\n",
       "    </tr>\n",
       "    <tr>\n",
       "      <th>min</th>\n",
       "      <td>2000.000000</td>\n",
       "      <td>0.080350</td>\n",
       "    </tr>\n",
       "    <tr>\n",
       "      <th>25%</th>\n",
       "      <td>2005.000000</td>\n",
       "      <td>16.885437</td>\n",
       "    </tr>\n",
       "    <tr>\n",
       "      <th>50%</th>\n",
       "      <td>2010.000000</td>\n",
       "      <td>31.515785</td>\n",
       "    </tr>\n",
       "    <tr>\n",
       "      <th>75%</th>\n",
       "      <td>2015.000000</td>\n",
       "      <td>47.637738</td>\n",
       "    </tr>\n",
       "    <tr>\n",
       "      <th>max</th>\n",
       "      <td>2021.000000</td>\n",
       "      <td>86.069190</td>\n",
       "    </tr>\n",
       "  </tbody>\n",
       "</table>\n",
       "</div>"
      ],
      "text/plain": [
       "              Jahr  Selbstgetragene Gesundheitsausgaben\n",
       "count  4223.000000                          4223.000000\n",
       "mean   2010.036467                            33.644061\n",
       "std       6.059714                            19.442344\n",
       "min    2000.000000                             0.080350\n",
       "25%    2005.000000                            16.885437\n",
       "50%    2010.000000                            31.515785\n",
       "75%    2015.000000                            47.637738\n",
       "max    2021.000000                            86.069190"
      ]
     },
     "execution_count": 25,
     "metadata": {},
     "output_type": "execute_result"
    }
   ],
   "source": [
    "df2.describe()\n"
   ]
  },
  {
   "cell_type": "code",
   "execution_count": 26,
   "id": "dddbb334",
   "metadata": {},
   "outputs": [
    {
     "data": {
      "image/png": "[encoded data removed]",
      "text/plain": [
       "<Figure size 640x480 with 1 Axes>"
      ]
     },
     "metadata": {},
     "output_type": "display_data"
    }
   ],
   "source": [
    "g = df2['Selbstgetragene Gesundheitsausgaben'].plot(kind='hist', bins=30, title='Histogramm der Selbstgetragene Gesundheitsausgaben', \n",
    "                                             xlabel='Gesundheitsausgaben', ylabel='Anzahl der Datenpunkte')\n",
    "mean = df2['Selbstgetragene Gesundheitsausgaben'].mean()\n",
    "median = df2['Selbstgetragene Gesundheitsausgaben'].median()\n",
    "g.axvline(x=mean, color='black', label=f'Mittelwert = {mean:.2f}')\n",
    "g.axvline(x=median, color='yellow', label=f'Median = {median:.2f}')\n",
    "g.legend()\n",
    "plt.title('Histogramm der selbstgetragene Gesundheitskosten', fontweight='bold')\n",
    "plt.show()"
   ]
  },
  {
   "cell_type": "markdown",
   "id": "bbdf3294",
   "metadata": {},
   "source": [
    "## 4. Analyse \n",
    "\n",
    "### Vorgehen\n",
    "- Spezifische Untersuchung der Fragestellung (Berechnungen)\n",
    "- Visualisieren der Resultate: Verwendet Achsenbeschriftung und überlegt euch, welche Art von Darstellung sinnvoll ist (Kuchen-, Säulen, Liniendiagramm; 2 y-Achsen?)\n",
    "- Beschreiben der Beobachtungen\n",
    "- Interpretation der Resultate (Hypothesen zu den Resultaten)\n",
    "- Untermauern der Interpretation mittels Hinweise zur Literatur (Mögliche Zusammenhänge aufzeigen).\n",
    "\n"
   ]
  },
  {
   "cell_type": "markdown",
   "id": "efacf120",
   "metadata": {},
   "source": [
    "## Vorgehen\n",
    "- Die Jahren 2000-2020 werden analysiert, damit es vergleichbar ist, da es von den selbstgetragene Gesundheitskosten nur in diesen Jahren Daten gibt \n",
    "- Die überschneidende Länder der zwei Datensätze werden isoliert und verglichen. (53 Länder)\n",
    "- \n",
    "## Beobachtungen\n",
    "\n",
    "\n",
    "## Interpretation"
   ]
  },
  {
   "cell_type": "markdown",
   "id": "4518b7a0",
   "metadata": {},
   "source": [
    "##4.1 Überschneidende Länder isolieren"
   ]
  },
  {
   "cell_type": "code",
   "execution_count": 27,
   "id": "48edc243",
   "metadata": {},
   "outputs": [
    {
     "name": "stdout",
     "output_type": "stream",
     "text": [
      "{'Lithuania', 'United States', 'Spain', 'Colombia', 'Italy', 'France', 'Israel', 'Portugal', 'South Africa', 'Germany', 'Slovakia', 'Switzerland', 'Norway', 'Luxembourg', 'United Kingdom', 'Ireland', 'Cyprus', 'Latvia', 'Denmark', 'Estonia', 'Malta', 'South Korea', 'Costa Rica', 'Iceland', 'Brazil', 'Croatia', 'Mexico', 'Belgium', 'Sweden', 'Czechia', 'Finland', 'New Zealand', 'North Macedonia', 'Poland', 'Turkey', 'Albania', 'Chile', 'Australia', 'Japan', 'Hungary', 'Argentina', 'Serbia', 'Peru', 'Bulgaria', 'Netherlands', 'China', 'Romania', 'Montenegro', 'Slovenia', 'Canada', 'India', 'Greece', 'Austria'}\n"
     ]
    }
   ],
   "source": [
    "country_col_df1 = 'Gebiet'  \n",
    "country_col_df2 = 'Gebiet'  \n",
    "\n",
    "# Überschneidende Länder ausfindig machen\n",
    "common_countries = set(df1[country_col_df1]).intersection(set(df2[country_col_df2]))\n",
    "\n",
    "df1_filtered = df1[df1[country_col_df1].isin(common_countries)]\n",
    "df2_filtered = df2[df2[country_col_df2].isin(common_countries)]\n",
    "print(common_countries)\n"
   ]
  },
  {
   "cell_type": "code",
   "execution_count": 28,
   "id": "3c9cb2c1",
   "metadata": {},
   "outputs": [
    {
     "name": "stdout",
     "output_type": "stream",
     "text": [
      "Number of common countries: 53\n"
     ]
    }
   ],
   "source": [
    "#Anzahl überschneidende Länder \n",
    "print(\"Number of common countries:\", len(common_countries))"
   ]
  },
  {
   "cell_type": "code",
   "execution_count": 29,
   "id": "34d7cd33",
   "metadata": {},
   "outputs": [],
   "source": [
    "#Gefilterte Daten werden pivotiert für die weitere Analyse \n",
    "df1_commoncountries = df1_filtered.pivot(index=\"Gebiet\", columns=\"Jahr\", values=\"öffentliche Gesundheitsausgaben\")\n",
    "df2_commoncountries = df2_filtered.pivot(index=\"Gebiet\", columns=\"Jahr\", values=\"Selbstgetragene Gesundheitsausgaben\")"
   ]
  },
  {
   "cell_type": "markdown",
   "id": "d8d9d67e",
   "metadata": {},
   "source": [
    "##4.2 Berechnungen"
   ]
  },
  {
   "cell_type": "code",
   "execution_count": 30,
   "id": "190a89ee",
   "metadata": {},
   "outputs": [
    {
     "name": "stdout",
     "output_type": "stream",
     "text": [
      "Gebiet\n",
      "Australia          2.415\n",
      "Austria            1.820\n",
      "Belgium            2.523\n",
      "Canada             3.930\n",
      "Chile              2.602\n",
      "Colombia           2.758\n",
      "Costa Rica         1.641\n",
      "Czechia            2.982\n",
      "Denmark            2.199\n",
      "Estonia            2.007\n",
      "Finland            2.281\n",
      "France             2.778\n",
      "Germany            3.189\n",
      "Greece             1.415\n",
      "Hungary            0.458\n",
      "Iceland            0.739\n",
      "Ireland            1.025\n",
      "Israel             1.604\n",
      "Italy              1.833\n",
      "Japan              3.622\n",
      "Latvia             1.979\n",
      "Lithuania          1.040\n",
      "Luxembourg         0.095\n",
      "Mexico             1.290\n",
      "Netherlands        4.151\n",
      "New Zealand        1.957\n",
      "Norway             3.451\n",
      "Poland             1.050\n",
      "Portugal           0.805\n",
      "Slovakia           1.107\n",
      "Slovenia           1.203\n",
      "South Korea        3.134\n",
      "Spain              2.997\n",
      "Sweden             3.610\n",
      "Switzerland        2.924\n",
      "Turkey             0.804\n",
      "United Kingdom     4.447\n",
      "United States     10.406\n",
      "dtype: float64\n"
     ]
    }
   ],
   "source": [
    "#Differenz in öffentliche Ausgaben zwischen den Jahr 2020 und 2000\n",
    "diffs1 = df1_commoncountries[2020] - df1_commoncountries[2000]\n",
    "diffs1 = diffs1.dropna()  # Drop NaN values\n",
    "print(diffs1)"
   ]
  },
  {
   "cell_type": "code",
   "execution_count": 31,
   "id": "785e31e5",
   "metadata": {},
   "outputs": [
    {
     "name": "stdout",
     "output_type": "stream",
     "text": [
      "Tiefste 10 differenzen:\n",
      "Gebiet\n",
      "Luxembourg    0.095\n",
      "Hungary       0.458\n",
      "Iceland       0.739\n",
      "Turkey        0.804\n",
      "Portugal      0.805\n",
      "Ireland       1.025\n",
      "Lithuania     1.040\n",
      "Poland        1.050\n",
      "Slovakia      1.107\n",
      "Slovenia      1.203\n",
      "dtype: float64\n",
      "\n",
      "Höchste 10 differenzen:\n",
      "Gebiet\n",
      "Spain              2.997\n",
      "South Korea        3.134\n",
      "Germany            3.189\n",
      "Norway             3.451\n",
      "Sweden             3.610\n",
      "Japan              3.622\n",
      "Canada             3.930\n",
      "Netherlands        4.151\n",
      "United Kingdom     4.447\n",
      "United States     10.406\n",
      "dtype: float64\n"
     ]
    }
   ],
   "source": [
    "diffs1_sorted = diffs1.sort_values()\n",
    "\n",
    "# Die 10 tiefsten Differenzen der öffentliche Gesundheitsausgaben\n",
    "print(\"Tiefste 10 differenzen:\")\n",
    "print(diffs1_sorted.head(10))\n",
    "\n",
    "# Die 10 höchsten Differenzen der öffentliche Gesundheitsausgaben\n",
    "print(\"\\nHöchste 10 differenzen:\")\n",
    "print(diffs1_sorted.tail(10))"
   ]
  },
  {
   "cell_type": "code",
   "execution_count": 32,
   "id": "e0b262cd",
   "metadata": {},
   "outputs": [
    {
     "name": "stdout",
     "output_type": "stream",
     "text": [
      "Gebiet\n",
      "Argentina          -4.893755\n",
      "Australia          -7.227429\n",
      "Austria            -1.018091\n",
      "Belgium            -4.185011\n",
      "Brazil            -14.199730\n",
      "Bulgaria           -3.791742\n",
      "Canada             -4.174537\n",
      "Chile             -13.437940\n",
      "China             -25.334332\n",
      "Colombia           -0.103562\n",
      "Costa Rica        -11.288111\n",
      "Croatia            -3.412431\n",
      "Cyprus            -41.894231\n",
      "Czechia             1.327574\n",
      "Denmark            -2.526883\n",
      "Estonia             1.223500\n",
      "Finland            -5.217234\n",
      "France              1.666841\n",
      "Germany             0.253634\n",
      "Greece             -2.833649\n",
      "Hungary            -1.840134\n",
      "Iceland            -3.000681\n",
      "India             -21.109850\n",
      "Ireland            -1.613529\n",
      "Israel            -12.349424\n",
      "Italy              -5.186887\n",
      "Japan              -3.347055\n",
      "Latvia            -15.569458\n",
      "Lithuania           1.541531\n",
      "Luxembourg         -5.798209\n",
      "Malta               3.939703\n",
      "Mexico            -13.456804\n",
      "Netherlands        -1.711618\n",
      "New Zealand        -3.785109\n",
      "North Macedonia    -3.214834\n",
      "Norway             -4.043138\n",
      "Peru              -17.518103\n",
      "Poland            -11.293175\n",
      "Portugal            2.081443\n",
      "Romania            -0.393540\n",
      "Serbia              6.298841\n",
      "Slovakia            7.912717\n",
      "Slovenia           -0.799140\n",
      "South Africa       -9.103944\n",
      "South Korea       -15.888836\n",
      "Spain              -4.699892\n",
      "Sweden             -1.430851\n",
      "Switzerland        -9.072627\n",
      "Turkey            -12.169791\n",
      "United Kingdom     -4.346275\n",
      "United States      -5.228866\n",
      "dtype: float64\n"
     ]
    }
   ],
   "source": [
    "#Differenz in selbstgetragene Ausgaben zwischen den Jahr 2020 und 2000\n",
    "diffs2 = df2_commoncountries[2020] - df2_commoncountries[2000]\n",
    "diffs2 = diffs2.dropna()  # Drop NaN values\n",
    "print(diffs2)"
   ]
  },
  {
   "cell_type": "code",
   "execution_count": 33,
   "id": "31ac5cc9",
   "metadata": {},
   "outputs": [
    {
     "name": "stdout",
     "output_type": "stream",
     "text": [
      "Lowest 10 differences:\n",
      "Gebiet\n",
      "Cyprus        -41.894231\n",
      "China         -25.334332\n",
      "India         -21.109850\n",
      "Peru          -17.518103\n",
      "South Korea   -15.888836\n",
      "Latvia        -15.569458\n",
      "Brazil        -14.199730\n",
      "Mexico        -13.456804\n",
      "Chile         -13.437940\n",
      "Israel        -12.349424\n",
      "dtype: float64\n",
      "\n",
      "Top 10 differences:\n",
      "Gebiet\n",
      "Colombia    -0.103562\n",
      "Germany      0.253634\n",
      "Estonia      1.223500\n",
      "Czechia      1.327574\n",
      "Lithuania    1.541531\n",
      "France       1.666841\n",
      "Portugal     2.081443\n",
      "Malta        3.939703\n",
      "Serbia       6.298841\n",
      "Slovakia     7.912717\n",
      "dtype: float64\n"
     ]
    }
   ],
   "source": [
    "diffs2_sorted = diffs2.sort_values()\n",
    "\n",
    "# Show the lowest 10 differences\n",
    "print(\"Lowest 10 differences:\")\n",
    "print(diffs2_sorted.head(10))\n",
    "\n",
    "# Show the top 10 differences\n",
    "print(\"\\nTop 10 differences:\")\n",
    "print(diffs2_sorted.tail(10))"
   ]
  },
  {
   "cell_type": "code",
   "execution_count": 34,
   "id": "c772fff4",
   "metadata": {},
   "outputs": [
    {
     "name": "stdout",
     "output_type": "stream",
     "text": [
      "Gebiet\n",
      "Albania            2.640222\n",
      "Argentina          5.204150\n",
      "Australia          6.076571\n",
      "Austria            7.468381\n",
      "Belgium            7.492667\n",
      "Brazil             3.624750\n",
      "Bulgaria           4.085333\n",
      "Canada             7.082714\n",
      "Chile              4.357810\n",
      "China              2.044200\n",
      "Colombia           5.214762\n",
      "Costa Rica         5.183667\n",
      "Croatia            5.988062\n",
      "Cyprus             3.062375\n",
      "Czechia            5.882333\n",
      "Denmark            8.183476\n",
      "Estonia            4.450048\n",
      "Finland            6.722524\n",
      "France             8.647810\n",
      "Germany            8.741095\n",
      "Greece             5.289810\n",
      "Hungary            4.949333\n",
      "Iceland            7.008810\n",
      "India              0.883400\n",
      "Ireland            6.114524\n",
      "Israel             4.510095\n",
      "Italy              6.458238\n",
      "Japan              7.604238\n",
      "Latvia             3.400619\n",
      "Lithuania          4.399810\n",
      "Luxembourg         5.051476\n",
      "Malta              5.512765\n",
      "Mexico             2.678143\n",
      "Montenegro         5.057000\n",
      "Netherlands        7.660286\n",
      "New Zealand        7.032952\n",
      "North Macedonia    4.120300\n",
      "Norway             7.706333\n",
      "Peru               2.620400\n",
      "Poland             4.341429\n",
      "Portugal           6.130429\n",
      "Romania            4.179500\n",
      "Serbia             5.359900\n",
      "Slovakia           5.272095\n",
      "Slovenia           6.016429\n",
      "South Africa       3.596100\n",
      "South Korea        3.486524\n",
      "Spain              6.095952\n",
      "Sweden             7.900429\n",
      "Switzerland        6.620000\n",
      "Turkey             3.494143\n",
      "United Kingdom     7.367476\n",
      "United States      9.343571\n",
      "Name: öffentliche Gesundheitsausgaben, dtype: float64\n"
     ]
    }
   ],
   "source": [
    "#Durchschnittliche öffentliche Gesundheitsausgaben in den 20 Jahren pro Land\n",
    "df1_filtered1 = df1[(df1['Jahr'] >= 2000) & (df1['Jahr'] <= 2020) & (df1[country_col_df1].isin(common_countries))]\n",
    "average_expenditure1 = df1_filtered1.groupby('Gebiet')['öffentliche Gesundheitsausgaben'].mean()\n",
    "print(average_expenditure1)\n"
   ]
  },
  {
   "cell_type": "code",
   "execution_count": 35,
   "id": "b92e8d34",
   "metadata": {},
   "outputs": [
    {
     "name": "stdout",
     "output_type": "stream",
     "text": [
      "Lowest 10 differences:\n",
      "Gebiet\n",
      "India           0.883400\n",
      "China           2.044200\n",
      "Peru            2.620400\n",
      "Albania         2.640222\n",
      "Mexico          2.678143\n",
      "Cyprus          3.062375\n",
      "Latvia          3.400619\n",
      "South Korea     3.486524\n",
      "Turkey          3.494143\n",
      "South Africa    3.596100\n",
      "Name: öffentliche Gesundheitsausgaben, dtype: float64\n",
      "\n",
      "Top 10 differences:\n",
      "Gebiet\n",
      "Austria          7.468381\n",
      "Belgium          7.492667\n",
      "Japan            7.604238\n",
      "Netherlands      7.660286\n",
      "Norway           7.706333\n",
      "Sweden           7.900429\n",
      "Denmark          8.183476\n",
      "France           8.647810\n",
      "Germany          8.741095\n",
      "United States    9.343571\n",
      "Name: öffentliche Gesundheitsausgaben, dtype: float64\n"
     ]
    }
   ],
   "source": [
    "average_expenditure1 = df1_filtered1.groupby('Gebiet')['öffentliche Gesundheitsausgaben'].mean()\n",
    "averages1sorted = average_expenditure1.sort_values()\n",
    "\n",
    "# Show the lowest 5 differences\n",
    "print(\"Lowest 10 differences:\")\n",
    "print(averages1sorted.head(10))\n",
    "\n",
    "\n",
    "# Show the top 5 differences\n",
    "print(\"\\nTop 10 differences:\")\n",
    "print(averages1sorted.tail(10))"
   ]
  },
  {
   "cell_type": "code",
   "execution_count": 36,
   "id": "7cb351d4",
   "metadata": {},
   "outputs": [
    {
     "name": "stdout",
     "output_type": "stream",
     "text": [
      "[Gebiet\n",
      "India      0.883400\n",
      "China      2.044200\n",
      "Peru       2.620400\n",
      "Albania    2.640222\n",
      "Mexico     2.678143\n",
      "Name: öffentliche Gesundheitsausgaben, dtype: float64, Gebiet\n",
      "Sweden           7.900429\n",
      "Denmark          8.183476\n",
      "France           8.647810\n",
      "Germany          8.741095\n",
      "United States    9.343571\n",
      "Name: öffentliche Gesundheitsausgaben, dtype: float64]\n"
     ]
    }
   ],
   "source": [
    "averagesgraph = [averages1sorted.head(5), averages1sorted.tail(5)]\n",
    "print (averagesgraph)"
   ]
  },
  {
   "cell_type": "code",
   "execution_count": 37,
   "id": "ededb7b6",
   "metadata": {},
   "outputs": [
    {
     "data": {
      "image/png": "[encoded data removed]",
      "text/plain": [
       "<Figure size 640x480 with 1 Axes>"
      ]
     },
     "metadata": {},
     "output_type": "display_data"
    }
   ],
   "source": [
    "top_and_bottom = pd.concat(averagesgraph)\n",
    "top_and_bottom.plot(kind=\"bar\", title=\"Top and Bottom 5 Averages\")\n",
    "plt.show()"
   ]
  },
  {
   "cell_type": "code",
   "execution_count": null,
   "id": "ffab503d",
   "metadata": {},
   "outputs": [],
   "source": []
  },
  {
   "cell_type": "code",
   "execution_count": 38,
   "id": "2b2f124f",
   "metadata": {},
   "outputs": [
    {
     "ename": "NameError",
     "evalue": "name 'diffs' is not defined",
     "output_type": "error",
     "traceback": [
      "\u001b[0;31m---------------------------------------------------------------------------\u001b[0m",
      "\u001b[0;31mNameError\u001b[0m                                 Traceback (most recent call last)",
      "Cell \u001b[0;32mIn[38], line 15\u001b[0m\n\u001b[1;32m      1\u001b[0m color_dict \u001b[38;5;241m=\u001b[39m {\n\u001b[1;32m      2\u001b[0m     \u001b[38;5;124m'\u001b[39m\u001b[38;5;124m'\u001b[39m: \u001b[38;5;124m'\u001b[39m\u001b[38;5;124mblue\u001b[39m\u001b[38;5;124m'\u001b[39m,\n\u001b[1;32m      3\u001b[0m     \u001b[38;5;124m'\u001b[39m\u001b[38;5;124mMexico\u001b[39m\u001b[38;5;124m'\u001b[39m: \u001b[38;5;124m'\u001b[39m\u001b[38;5;124mcyan\u001b[39m\u001b[38;5;124m'\u001b[39m,\n\u001b[0;32m   (...)\u001b[0m\n\u001b[1;32m     11\u001b[0m     \u001b[38;5;124m'\u001b[39m\u001b[38;5;124mEswatini\u001b[39m\u001b[38;5;124m'\u001b[39m: \u001b[38;5;124m'\u001b[39m\u001b[38;5;124mpurple\u001b[39m\u001b[38;5;124m'\u001b[39m\n\u001b[1;32m     12\u001b[0m }\n\u001b[1;32m     14\u001b[0m \u001b[38;5;28;01mfor\u001b[39;00m averagesgraph \u001b[38;5;129;01min\u001b[39;00m averagesgraph:\n\u001b[0;32m---> 15\u001b[0m     diff \u001b[38;5;241m=\u001b[39m diffs[gebiet]\n\u001b[1;32m     16\u001b[0m     g \u001b[38;5;241m=\u001b[39m df_pivot\u001b[38;5;241m.\u001b[39mloc[gebiet]\u001b[38;5;241m.\u001b[39mplot(title\u001b[38;5;241m=\u001b[39m\u001b[38;5;124m'\u001b[39m\u001b[38;5;124mLebenserwartungen\u001b[39m\u001b[38;5;124m'\u001b[39m, xlabel\u001b[38;5;241m=\u001b[39m\u001b[38;5;124m'\u001b[39m\u001b[38;5;124mJahr\u001b[39m\u001b[38;5;124m'\u001b[39m, ylabel\u001b[38;5;241m=\u001b[39m\u001b[38;5;124mf\u001b[39m\u001b[38;5;124m'\u001b[39m\u001b[38;5;124mLebenserwartung\u001b[39m\u001b[38;5;124m'\u001b[39m, legend\u001b[38;5;241m=\u001b[39m\u001b[38;5;28;01mTrue\u001b[39;00m,\n\u001b[1;32m     17\u001b[0m                                   label\u001b[38;5;241m=\u001b[39m\u001b[38;5;124mf\u001b[39m\u001b[38;5;124m'\u001b[39m\u001b[38;5;132;01m{\u001b[39;00mgebiet\u001b[38;5;132;01m}\u001b[39;00m\u001b[38;5;124m - Diff. 2021-2011: \u001b[39m\u001b[38;5;132;01m{\u001b[39;00mdiff\u001b[38;5;132;01m:\u001b[39;00m\u001b[38;5;124m.2f\u001b[39m\u001b[38;5;132;01m}\u001b[39;00m\u001b[38;5;124m'\u001b[39m, \u001b[38;5;66;03m# für die Legende\u001b[39;00m\n\u001b[1;32m     18\u001b[0m                                   xlim\u001b[38;5;241m=\u001b[39m[\u001b[38;5;241m1980\u001b[39m,\u001b[38;5;241m2025\u001b[39m], ylim\u001b[38;5;241m=\u001b[39m[\u001b[38;5;241m0\u001b[39m,\u001b[38;5;241m80\u001b[39m],   \u001b[38;5;66;03m# x- und y-Achsen begrenzen\u001b[39;00m\n\u001b[1;32m     19\u001b[0m                                   color\u001b[38;5;241m=\u001b[39mcolor_dict[gebiet],        \u001b[38;5;66;03m# Farbe aus color_dict\u001b[39;00m\n\u001b[1;32m     20\u001b[0m                                   figsize\u001b[38;5;241m=\u001b[39m(\u001b[38;5;241m7\u001b[39m,\u001b[38;5;241m7\u001b[39m))\n",
      "\u001b[0;31mNameError\u001b[0m: name 'diffs' is not defined"
     ]
    }
   ],
   "source": [
    "color_dict = {\n",
    "    '': 'blue',\n",
    "    'Mexico': 'cyan',\n",
    "    'Cuba': 'lightgreen',\n",
    "    'Oman': 'green',\n",
    "    'Tanzania': 'red',\n",
    "    'Sierra Leone': 'orange',\n",
    "    'Malawi': 'yellow',\n",
    "    'Zimbabwe': 'brown',\n",
    "    'Lesotho': 'pink',\n",
    "    'Eswatini': 'purple'\n",
    "}\n",
    "\n",
    "for averagesgraph in averagesgraph:\n",
    "    diff = diffs[gebiet]\n",
    "    g = df_pivot.loc[gebiet].plot(title='Lebenserwartungen', xlabel='Jahr', ylabel=f'Lebenserwartung', legend=True,\n",
    "                                  label=f'{gebiet} - Diff. 2021-2011: {diff:.2f}', # für die Legende\n",
    "                                  xlim=[1980,2025], ylim=[0,80],   # x- und y-Achsen begrenzen\n",
    "                                  color=color_dict[gebiet],        # Farbe aus color_dict\n",
    "                                  figsize=(7,7))                   # Grösse des Plots"
   ]
  },
  {
   "cell_type": "code",
   "execution_count": 44,
   "id": "626458de",
   "metadata": {},
   "outputs": [
    {
     "name": "stdout",
     "output_type": "stream",
     "text": [
      "Gebiet\n",
      "Albania            54.359706\n",
      "Argentina          28.165721\n",
      "Australia          18.468749\n",
      "Austria            18.623310\n",
      "Belgium            19.367218\n",
      "Brazil             30.357096\n",
      "Bulgaria           41.661896\n",
      "Canada             15.190408\n",
      "Chile              36.915244\n",
      "China              46.204427\n",
      "Colombia           15.534594\n",
      "Costa Rica         26.752106\n",
      "Croatia            12.989658\n",
      "Cyprus             45.131143\n",
      "Czechia            13.185835\n",
      "Denmark            14.055072\n",
      "Estonia            22.214728\n",
      "Finland            18.911003\n",
      "France              9.084114\n",
      "Germany            13.416183\n",
      "Greece             34.450027\n",
      "Hungary            27.216567\n",
      "Iceland            17.241487\n",
      "India              65.900021\n",
      "Ireland            12.636619\n",
      "Israel             24.896525\n",
      "Italy              22.684389\n",
      "Japan              14.397475\n",
      "Latvia             40.143740\n",
      "Lithuania          29.839107\n",
      "Luxembourg         11.431692\n",
      "Malta              31.812064\n",
      "Mexico             46.636492\n",
      "Montenegro         38.874923\n",
      "Netherlands        10.097640\n",
      "New Zealand        13.406879\n",
      "North Macedonia    38.239876\n",
      "Norway             15.427405\n",
      "Peru               35.673768\n",
      "Poland             25.031224\n",
      "Portugal           26.850342\n",
      "Romania            19.876809\n",
      "Serbia             34.328092\n",
      "Slovakia           19.524342\n",
      "Slovenia           12.543688\n",
      "South Africa        8.851054\n",
      "South Korea        35.208043\n",
      "Spain              21.909735\n",
      "Sweden             15.335103\n",
      "Switzerland        26.909217\n",
      "Turkey             19.142136\n",
      "United Kingdom     15.274499\n",
      "United States      12.750684\n",
      "Name: Selbstgetragene Gesundheitsausgaben, dtype: float64\n"
     ]
    }
   ],
   "source": [
    "#Durchschnittliche selbstgetragene Gesundheitskosten in den 20 Jahren pro Land\n",
    "df2_filtered2 = df2[(df2['Jahr'] >= 2000) & (df2['Jahr'] <= 2020) & (df2[country_col_df2].isin(common_countries))]\n",
    "average_expenditure2 = df2_filtered2.groupby('Gebiet')['Selbstgetragene Gesundheitsausgaben'].mean()\n",
    "print(average_expenditure2)"
   ]
  },
  {
   "cell_type": "code",
   "execution_count": null,
   "id": "da44413c",
   "metadata": {},
   "outputs": [
    {
     "name": "stdout",
     "output_type": "stream",
     "text": [
      "                 öffentliche Gesundheitsausgaben  \\\n",
      "Gebiet                                             \n",
      "Albania                                 2.640222   \n",
      "Argentina                               5.204150   \n",
      "Australia                               6.076571   \n",
      "Austria                                 7.468381   \n",
      "Belgium                                 7.492667   \n",
      "Brazil                                  3.624750   \n",
      "Bulgaria                                4.085333   \n",
      "Canada                                  7.082714   \n",
      "Chile                                   4.357810   \n",
      "China                                   2.044200   \n",
      "Colombia                                5.214762   \n",
      "Costa Rica                              5.183667   \n",
      "Croatia                                 5.988062   \n",
      "Cyprus                                  3.062375   \n",
      "Czechia                                 5.882333   \n",
      "Denmark                                 8.183476   \n",
      "Estonia                                 4.450048   \n",
      "Finland                                 6.722524   \n",
      "France                                  8.647810   \n",
      "Germany                                 8.741095   \n",
      "Greece                                  5.289810   \n",
      "Hungary                                 4.949333   \n",
      "Iceland                                 7.008810   \n",
      "India                                   0.883400   \n",
      "Ireland                                 6.114524   \n",
      "Israel                                  4.510095   \n",
      "Italy                                   6.458238   \n",
      "Japan                                   7.604238   \n",
      "Latvia                                  3.400619   \n",
      "Lithuania                               4.399810   \n",
      "Luxembourg                              5.051476   \n",
      "Malta                                   5.512765   \n",
      "Mexico                                  2.678143   \n",
      "Montenegro                              5.057000   \n",
      "Netherlands                             7.660286   \n",
      "New Zealand                             7.032952   \n",
      "North Macedonia                         4.120300   \n",
      "Norway                                  7.706333   \n",
      "Peru                                    2.620400   \n",
      "Poland                                  4.341429   \n",
      "Portugal                                6.130429   \n",
      "Romania                                 4.179500   \n",
      "Serbia                                  5.359900   \n",
      "Slovakia                                5.272095   \n",
      "Slovenia                                6.016429   \n",
      "South Africa                            3.596100   \n",
      "South Korea                             3.486524   \n",
      "Spain                                   6.095952   \n",
      "Sweden                                  7.900429   \n",
      "Switzerland                             6.620000   \n",
      "Turkey                                  3.494143   \n",
      "United Kingdom                          7.367476   \n",
      "United States                           9.343571   \n",
      "\n",
      "                 Selbstgetragene Gesundheitsausgaben  \n",
      "Gebiet                                                \n",
      "Albania                                    54.359706  \n",
      "Argentina                                  28.165721  \n",
      "Australia                                  18.468749  \n",
      "Austria                                    18.623310  \n",
      "Belgium                                    19.367218  \n",
      "Brazil                                     30.357096  \n",
      "Bulgaria                                   41.661896  \n",
      "Canada                                     15.190408  \n",
      "Chile                                      36.915244  \n",
      "China                                      46.204427  \n",
      "Colombia                                   15.534594  \n",
      "Costa Rica                                 26.752106  \n",
      "Croatia                                    12.989658  \n",
      "Cyprus                                     45.131143  \n",
      "Czechia                                    13.185835  \n",
      "Denmark                                    14.055072  \n",
      "Estonia                                    22.214728  \n",
      "Finland                                    18.911003  \n",
      "France                                      9.084114  \n",
      "Germany                                    13.416183  \n",
      "Greece                                     34.450027  \n",
      "Hungary                                    27.216567  \n",
      "Iceland                                    17.241487  \n",
      "India                                      65.900021  \n",
      "Ireland                                    12.636619  \n",
      "Israel                                     24.896525  \n",
      "Italy                                      22.684389  \n",
      "Japan                                      14.397475  \n",
      "Latvia                                     40.143740  \n",
      "Lithuania                                  29.839107  \n",
      "Luxembourg                                 11.431692  \n",
      "Malta                                      31.812064  \n",
      "Mexico                                     46.636492  \n",
      "Montenegro                                 38.874923  \n",
      "Netherlands                                10.097640  \n",
      "New Zealand                                13.406879  \n",
      "North Macedonia                            38.239876  \n",
      "Norway                                     15.427405  \n",
      "Peru                                       35.673768  \n",
      "Poland                                     25.031224  \n",
      "Portugal                                   26.850342  \n",
      "Romania                                    19.876809  \n",
      "Serbia                                     34.328092  \n",
      "Slovakia                                   19.524342  \n",
      "Slovenia                                   12.543688  \n",
      "South Africa                                8.851054  \n",
      "South Korea                                35.208043  \n",
      "Spain                                      21.909735  \n",
      "Sweden                                     15.335103  \n",
      "Switzerland                                26.909217  \n",
      "Turkey                                     19.142136  \n",
      "United Kingdom                             15.274499  \n",
      "United States                              12.750684  \n"
     ]
    },
    {
     "data": {
      "image/png": "[encoded data removed]",
      "text/plain": [
       "<Figure size 640x480 with 1 Axes>"
      ]
     },
     "metadata": {},
     "output_type": "display_data"
    },
    {
     "data": {
      "image/png": "[encoded data removed]",
      "text/plain": [
       "<Figure size 500x500 with 1 Axes>"
      ]
     },
     "metadata": {},
     "output_type": "display_data"
    }
   ],
   "source": [
    "#merge df1 and df2 by the country name... in one df.\n",
    "average_expenditure1 = df1_filtered1.groupby('Gebiet')['öffentliche Gesundheitsausgaben'].mean()\n",
    "average_expenditure2 = df2_filtered2.groupby('Gebiet')['Selbstgetragene Gesundheitsausgaben'].mean()\n",
    "\n",
    "df3_toplot=pd.concat([average_expenditure1,average_expenditure2],axis=1)\n",
    "print(df3_toplot)\n",
    "\n",
    "#scatterplot with seaborn library.\n",
    "ax=sns.scatterplot(x=\"öffentliche Gesundheitsausgaben\", y=\"Selbstgetragene Gesundheitsausgaben\", hue=\"Gebiet\", data=df3_toplot)\n",
    "sns.move_legend(ax, \"upper left\", bbox_to_anchor=(1, 1))\n",
    "plt.show()\n",
    "#regression line\n",
    "ax1=sns.lmplot(x=\"öffentliche Gesundheitsausgaben\", y=\"Selbstgetragene Gesundheitsausgaben\", data=df3_toplot)\n",
    "plt.show()"
   ]
  }
 ],
 "metadata": {
  "kernelspec": {
   "display_name": "base",
   "language": "python",
   "name": "python3"
  },
  "language_info": {
   "codemirror_mode": {
    "name": "ipython",
    "version": 3
   },
   "file_extension": ".py",
   "mimetype": "text/x-python",
   "name": "python",
   "nbconvert_exporter": "python",
   "pygments_lexer": "ipython3",
   "version": "3.12.4"
  }
 },
 "nbformat": 4,
 "nbformat_minor": 5
}
