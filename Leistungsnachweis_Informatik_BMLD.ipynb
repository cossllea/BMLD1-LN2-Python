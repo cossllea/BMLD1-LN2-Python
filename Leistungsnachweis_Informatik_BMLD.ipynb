{
 "cells": [
  {
   "cell_type": "code",
   "execution_count": 1,
   "metadata": {},
   "outputs": [],
   "source": [
    "import pandas as pd\n",
    "from matplotlib import pyplot as plt"
   ]
  },
  {
   "cell_type": "code",
   "execution_count": 27,
   "metadata": {},
   "outputs": [],
   "source": [
    "import pandas as pd\n",
    "import seaborn as sns\n",
    "from matplotlib import pyplot as plt"
   ]
  },
  {
   "cell_type": "code",
   "execution_count": null,
   "metadata": {},
   "outputs": [
    {
     "data": {
      "text/html": [
       "<div>\n",
       "<style scoped>\n",
       "    .dataframe tbody tr th:only-of-type {\n",
       "        vertical-align: middle;\n",
       "    }\n",
       "\n",
       "    .dataframe tbody tr th {\n",
       "        vertical-align: top;\n",
       "    }\n",
       "\n",
       "    .dataframe thead th {\n",
       "        text-align: right;\n",
       "    }\n",
       "</style>\n",
       "<table border=\"1\" class=\"dataframe\">\n",
       "  <thead>\n",
       "    <tr style=\"text-align: right;\">\n",
       "      <th></th>\n",
       "      <th>Land</th>\n",
       "      <th>Code2</th>\n",
       "      <th>Jahr</th>\n",
       "      <th>Selbstgetragene Gesundheitsausgaben</th>\n",
       "    </tr>\n",
       "  </thead>\n",
       "  <tbody>\n",
       "    <tr>\n",
       "      <th>0</th>\n",
       "      <td>Afghanistan</td>\n",
       "      <td>AFG</td>\n",
       "      <td>2002</td>\n",
       "      <td>85.375600</td>\n",
       "    </tr>\n",
       "    <tr>\n",
       "      <th>1</th>\n",
       "      <td>Afghanistan</td>\n",
       "      <td>AFG</td>\n",
       "      <td>2003</td>\n",
       "      <td>86.069190</td>\n",
       "    </tr>\n",
       "    <tr>\n",
       "      <th>2</th>\n",
       "      <td>Afghanistan</td>\n",
       "      <td>AFG</td>\n",
       "      <td>2004</td>\n",
       "      <td>84.527590</td>\n",
       "    </tr>\n",
       "    <tr>\n",
       "      <th>3</th>\n",
       "      <td>Afghanistan</td>\n",
       "      <td>AFG</td>\n",
       "      <td>2005</td>\n",
       "      <td>78.970085</td>\n",
       "    </tr>\n",
       "    <tr>\n",
       "      <th>4</th>\n",
       "      <td>Afghanistan</td>\n",
       "      <td>AFG</td>\n",
       "      <td>2006</td>\n",
       "      <td>76.824974</td>\n",
       "    </tr>\n",
       "  </tbody>\n",
       "</table>\n",
       "</div>"
      ],
      "text/plain": [
       "          Land Code2  Jahr  Selbstgetragene Gesundheitsausgaben\n",
       "0  Afghanistan   AFG  2002                            85.375600\n",
       "1  Afghanistan   AFG  2003                            86.069190\n",
       "2  Afghanistan   AFG  2004                            84.527590\n",
       "3  Afghanistan   AFG  2005                            78.970085\n",
       "4  Afghanistan   AFG  2006                            76.824974"
      ]
     },
     "execution_count": 28,
     "metadata": {},
     "output_type": "execute_result"
    }
   ],
   "source": [
    "df2 = pd.read_csv(\"share-of-out-of-pocket-expenditure-on-healthcare.csv\", skiprows=1, \n",
    "                 names=[\"Land\", \"Code2\", \"Jahr\", \"selbstgetragene Gesundheitsausgaben\"])\n",
    "df2.head()"
   ]
  },
  {
   "cell_type": "code",
   "execution_count": 2,
   "metadata": {},
   "outputs": [
    {
     "data": {
      "text/html": [
       "<div>\n",
       "<style scoped>\n",
       "    .dataframe tbody tr th:only-of-type {\n",
       "        vertical-align: middle;\n",
       "    }\n",
       "\n",
       "    .dataframe tbody tr th {\n",
       "        vertical-align: top;\n",
       "    }\n",
       "\n",
       "    .dataframe thead th {\n",
       "        text-align: right;\n",
       "    }\n",
       "</style>\n",
       "<table border=\"1\" class=\"dataframe\">\n",
       "  <thead>\n",
       "    <tr style=\"text-align: right;\">\n",
       "      <th></th>\n",
       "      <th>Gebiet</th>\n",
       "      <th>Code</th>\n",
       "      <th>Jahr</th>\n",
       "      <th>public-health-expenditure-gdp</th>\n",
       "    </tr>\n",
       "  </thead>\n",
       "  <tbody>\n",
       "    <tr>\n",
       "      <th>0</th>\n",
       "      <td>Albania</td>\n",
       "      <td>ALB</td>\n",
       "      <td>2010</td>\n",
       "      <td>2.442</td>\n",
       "    </tr>\n",
       "    <tr>\n",
       "      <th>1</th>\n",
       "      <td>Albania</td>\n",
       "      <td>ALB</td>\n",
       "      <td>2011</td>\n",
       "      <td>2.387</td>\n",
       "    </tr>\n",
       "    <tr>\n",
       "      <th>2</th>\n",
       "      <td>Albania</td>\n",
       "      <td>ALB</td>\n",
       "      <td>2012</td>\n",
       "      <td>2.474</td>\n",
       "    </tr>\n",
       "    <tr>\n",
       "      <th>3</th>\n",
       "      <td>Albania</td>\n",
       "      <td>ALB</td>\n",
       "      <td>2013</td>\n",
       "      <td>2.605</td>\n",
       "    </tr>\n",
       "    <tr>\n",
       "      <th>4</th>\n",
       "      <td>Albania</td>\n",
       "      <td>ALB</td>\n",
       "      <td>2014</td>\n",
       "      <td>2.617</td>\n",
       "    </tr>\n",
       "  </tbody>\n",
       "</table>\n",
       "</div>"
      ],
      "text/plain": [
       "    Gebiet Code  Jahr  public-health-expenditure-gdp\n",
       "0  Albania  ALB  2010                          2.442\n",
       "1  Albania  ALB  2011                          2.387\n",
       "2  Albania  ALB  2012                          2.474\n",
       "3  Albania  ALB  2013                          2.605\n",
       "4  Albania  ALB  2014                          2.617"
      ]
     },
     "execution_count": 2,
     "metadata": {},
     "output_type": "execute_result"
    }
   ],
   "source": [
    "df = pd.read_csv(\"public-health-expenditure-share-gdp.csv\", skiprows=1, \n",
    "                 names=[\"Gebiet\", \"Code\", \"Jahr\", \"public-health-expenditure-gdp\"])\n",
    "df.head()"
   ]
  },
  {
   "cell_type": "code",
   "execution_count": 3,
   "metadata": {},
   "outputs": [
    {
     "data": {
      "text/html": [
       "<div>\n",
       "<style scoped>\n",
       "    .dataframe tbody tr th:only-of-type {\n",
       "        vertical-align: middle;\n",
       "    }\n",
       "\n",
       "    .dataframe tbody tr th {\n",
       "        vertical-align: top;\n",
       "    }\n",
       "\n",
       "    .dataframe thead th {\n",
       "        text-align: right;\n",
       "    }\n",
       "</style>\n",
       "<table border=\"1\" class=\"dataframe\">\n",
       "  <thead>\n",
       "    <tr style=\"text-align: right;\">\n",
       "      <th>Jahr</th>\n",
       "      <th>1880</th>\n",
       "      <th>1890</th>\n",
       "      <th>1900</th>\n",
       "      <th>1910</th>\n",
       "      <th>1920</th>\n",
       "      <th>1930</th>\n",
       "      <th>1960</th>\n",
       "      <th>1961</th>\n",
       "      <th>1962</th>\n",
       "      <th>1963</th>\n",
       "      <th>...</th>\n",
       "      <th>2012</th>\n",
       "      <th>2013</th>\n",
       "      <th>2014</th>\n",
       "      <th>2015</th>\n",
       "      <th>2016</th>\n",
       "      <th>2017</th>\n",
       "      <th>2018</th>\n",
       "      <th>2019</th>\n",
       "      <th>2020</th>\n",
       "      <th>2021</th>\n",
       "    </tr>\n",
       "    <tr>\n",
       "      <th>Gebiet</th>\n",
       "      <th></th>\n",
       "      <th></th>\n",
       "      <th></th>\n",
       "      <th></th>\n",
       "      <th></th>\n",
       "      <th></th>\n",
       "      <th></th>\n",
       "      <th></th>\n",
       "      <th></th>\n",
       "      <th></th>\n",
       "      <th></th>\n",
       "      <th></th>\n",
       "      <th></th>\n",
       "      <th></th>\n",
       "      <th></th>\n",
       "      <th></th>\n",
       "      <th></th>\n",
       "      <th></th>\n",
       "      <th></th>\n",
       "      <th></th>\n",
       "      <th></th>\n",
       "    </tr>\n",
       "  </thead>\n",
       "  <tbody>\n",
       "    <tr>\n",
       "      <th>Albania</th>\n",
       "      <td>NaN</td>\n",
       "      <td>NaN</td>\n",
       "      <td>NaN</td>\n",
       "      <td>NaN</td>\n",
       "      <td>NaN</td>\n",
       "      <td>NaN</td>\n",
       "      <td>NaN</td>\n",
       "      <td>NaN</td>\n",
       "      <td>NaN</td>\n",
       "      <td>NaN</td>\n",
       "      <td>...</td>\n",
       "      <td>2.474</td>\n",
       "      <td>2.605</td>\n",
       "      <td>2.617</td>\n",
       "      <td>2.755</td>\n",
       "      <td>2.842</td>\n",
       "      <td>2.762</td>\n",
       "      <td>2.878</td>\n",
       "      <td>NaN</td>\n",
       "      <td>NaN</td>\n",
       "      <td>NaN</td>\n",
       "    </tr>\n",
       "    <tr>\n",
       "      <th>Argentina</th>\n",
       "      <td>NaN</td>\n",
       "      <td>NaN</td>\n",
       "      <td>NaN</td>\n",
       "      <td>NaN</td>\n",
       "      <td>NaN</td>\n",
       "      <td>NaN</td>\n",
       "      <td>NaN</td>\n",
       "      <td>NaN</td>\n",
       "      <td>NaN</td>\n",
       "      <td>NaN</td>\n",
       "      <td>...</td>\n",
       "      <td>6.144</td>\n",
       "      <td>6.264</td>\n",
       "      <td>6.361</td>\n",
       "      <td>6.853</td>\n",
       "      <td>5.619</td>\n",
       "      <td>6.644</td>\n",
       "      <td>5.965</td>\n",
       "      <td>5.954</td>\n",
       "      <td>NaN</td>\n",
       "      <td>NaN</td>\n",
       "    </tr>\n",
       "    <tr>\n",
       "      <th>Australia</th>\n",
       "      <td>0.00</td>\n",
       "      <td>0.00</td>\n",
       "      <td>0.00</td>\n",
       "      <td>0.38</td>\n",
       "      <td>0.57</td>\n",
       "      <td>0.44</td>\n",
       "      <td>1.913670</td>\n",
       "      <td>2.092822</td>\n",
       "      <td>2.231257</td>\n",
       "      <td>2.141681</td>\n",
       "      <td>...</td>\n",
       "      <td>5.859</td>\n",
       "      <td>5.685</td>\n",
       "      <td>6.658</td>\n",
       "      <td>6.985</td>\n",
       "      <td>6.942</td>\n",
       "      <td>6.991</td>\n",
       "      <td>7.009</td>\n",
       "      <td>7.361</td>\n",
       "      <td>7.612</td>\n",
       "      <td>NaN</td>\n",
       "    </tr>\n",
       "    <tr>\n",
       "      <th>Austria</th>\n",
       "      <td>0.00</td>\n",
       "      <td>0.00</td>\n",
       "      <td>0.00</td>\n",
       "      <td>0.00</td>\n",
       "      <td>0.00</td>\n",
       "      <td>0.00</td>\n",
       "      <td>2.635009</td>\n",
       "      <td>2.660758</td>\n",
       "      <td>2.703673</td>\n",
       "      <td>2.780921</td>\n",
       "      <td>...</td>\n",
       "      <td>7.617</td>\n",
       "      <td>7.612</td>\n",
       "      <td>7.673</td>\n",
       "      <td>7.678</td>\n",
       "      <td>7.657</td>\n",
       "      <td>7.686</td>\n",
       "      <td>7.724</td>\n",
       "      <td>7.865</td>\n",
       "      <td>8.772</td>\n",
       "      <td>9.555</td>\n",
       "    </tr>\n",
       "    <tr>\n",
       "      <th>Belgium</th>\n",
       "      <td>0.06</td>\n",
       "      <td>0.11</td>\n",
       "      <td>0.12</td>\n",
       "      <td>0.18</td>\n",
       "      <td>0.21</td>\n",
       "      <td>0.09</td>\n",
       "      <td>1.683308</td>\n",
       "      <td>1.707128</td>\n",
       "      <td>1.730949</td>\n",
       "      <td>1.850051</td>\n",
       "      <td>...</td>\n",
       "      <td>8.033</td>\n",
       "      <td>8.040</td>\n",
       "      <td>8.079</td>\n",
       "      <td>8.265</td>\n",
       "      <td>8.305</td>\n",
       "      <td>8.304</td>\n",
       "      <td>8.337</td>\n",
       "      <td>8.107</td>\n",
       "      <td>8.491</td>\n",
       "      <td>NaN</td>\n",
       "    </tr>\n",
       "  </tbody>\n",
       "</table>\n",
       "<p>5 rows × 68 columns</p>\n",
       "</div>"
      ],
      "text/plain": [
       "Jahr       1880  1890  1900  1910  1920  1930      1960      1961      1962  \\\n",
       "Gebiet                                                                        \n",
       "Albania     NaN   NaN   NaN   NaN   NaN   NaN       NaN       NaN       NaN   \n",
       "Argentina   NaN   NaN   NaN   NaN   NaN   NaN       NaN       NaN       NaN   \n",
       "Australia  0.00  0.00  0.00  0.38  0.57  0.44  1.913670  2.092822  2.231257   \n",
       "Austria    0.00  0.00  0.00  0.00  0.00  0.00  2.635009  2.660758  2.703673   \n",
       "Belgium    0.06  0.11  0.12  0.18  0.21  0.09  1.683308  1.707128  1.730949   \n",
       "\n",
       "Jahr           1963  ...   2012   2013   2014   2015   2016   2017   2018  \\\n",
       "Gebiet               ...                                                    \n",
       "Albania         NaN  ...  2.474  2.605  2.617  2.755  2.842  2.762  2.878   \n",
       "Argentina       NaN  ...  6.144  6.264  6.361  6.853  5.619  6.644  5.965   \n",
       "Australia  2.141681  ...  5.859  5.685  6.658  6.985  6.942  6.991  7.009   \n",
       "Austria    2.780921  ...  7.617  7.612  7.673  7.678  7.657  7.686  7.724   \n",
       "Belgium    1.850051  ...  8.033  8.040  8.079  8.265  8.305  8.304  8.337   \n",
       "\n",
       "Jahr        2019   2020   2021  \n",
       "Gebiet                          \n",
       "Albania      NaN    NaN    NaN  \n",
       "Argentina  5.954    NaN    NaN  \n",
       "Australia  7.361  7.612    NaN  \n",
       "Austria    7.865  8.772  9.555  \n",
       "Belgium    8.107  8.491    NaN  \n",
       "\n",
       "[5 rows x 68 columns]"
      ]
     },
     "execution_count": 3,
     "metadata": {},
     "output_type": "execute_result"
    }
   ],
   "source": [
    "df_pivot = df.pivot(index=\"Gebiet\", columns=\"Jahr\", values=\"public-health-expenditure-gdp\")\n",
    "df_pivot.head()"
   ]
  },
  {
   "cell_type": "code",
   "execution_count": 31,
   "metadata": {},
   "outputs": [
    {
     "data": {
      "text/html": [
       "<div>\n",
       "<style scoped>\n",
       "    .dataframe tbody tr th:only-of-type {\n",
       "        vertical-align: middle;\n",
       "    }\n",
       "\n",
       "    .dataframe tbody tr th {\n",
       "        vertical-align: top;\n",
       "    }\n",
       "\n",
       "    .dataframe thead th {\n",
       "        text-align: right;\n",
       "    }\n",
       "</style>\n",
       "<table border=\"1\" class=\"dataframe\">\n",
       "  <thead>\n",
       "    <tr style=\"text-align: right;\">\n",
       "      <th>Jahr</th>\n",
       "      <th>2000</th>\n",
       "      <th>2001</th>\n",
       "      <th>2002</th>\n",
       "      <th>2003</th>\n",
       "      <th>2004</th>\n",
       "      <th>2005</th>\n",
       "      <th>2006</th>\n",
       "      <th>2007</th>\n",
       "      <th>2008</th>\n",
       "      <th>2009</th>\n",
       "      <th>...</th>\n",
       "      <th>2012</th>\n",
       "      <th>2013</th>\n",
       "      <th>2014</th>\n",
       "      <th>2015</th>\n",
       "      <th>2016</th>\n",
       "      <th>2017</th>\n",
       "      <th>2018</th>\n",
       "      <th>2019</th>\n",
       "      <th>2020</th>\n",
       "      <th>2021</th>\n",
       "    </tr>\n",
       "    <tr>\n",
       "      <th>Land</th>\n",
       "      <th></th>\n",
       "      <th></th>\n",
       "      <th></th>\n",
       "      <th></th>\n",
       "      <th></th>\n",
       "      <th></th>\n",
       "      <th></th>\n",
       "      <th></th>\n",
       "      <th></th>\n",
       "      <th></th>\n",
       "      <th></th>\n",
       "      <th></th>\n",
       "      <th></th>\n",
       "      <th></th>\n",
       "      <th></th>\n",
       "      <th></th>\n",
       "      <th></th>\n",
       "      <th></th>\n",
       "      <th></th>\n",
       "      <th></th>\n",
       "      <th></th>\n",
       "    </tr>\n",
       "  </thead>\n",
       "  <tbody>\n",
       "    <tr>\n",
       "      <th>Afghanistan</th>\n",
       "      <td>NaN</td>\n",
       "      <td>NaN</td>\n",
       "      <td>85.375600</td>\n",
       "      <td>86.069190</td>\n",
       "      <td>84.527590</td>\n",
       "      <td>78.970085</td>\n",
       "      <td>76.824974</td>\n",
       "      <td>78.169980</td>\n",
       "      <td>75.403390</td>\n",
       "      <td>72.779240</td>\n",
       "      <td>...</td>\n",
       "      <td>74.486206</td>\n",
       "      <td>72.047860</td>\n",
       "      <td>73.055920</td>\n",
       "      <td>78.382290</td>\n",
       "      <td>75.974335</td>\n",
       "      <td>75.482580</td>\n",
       "      <td>76.223020</td>\n",
       "      <td>76.818370</td>\n",
       "      <td>74.813965</td>\n",
       "      <td>77.21405</td>\n",
       "    </tr>\n",
       "    <tr>\n",
       "      <th>Albania</th>\n",
       "      <td>51.814300</td>\n",
       "      <td>49.128300</td>\n",
       "      <td>50.855670</td>\n",
       "      <td>47.601320</td>\n",
       "      <td>47.047787</td>\n",
       "      <td>48.436172</td>\n",
       "      <td>48.580803</td>\n",
       "      <td>51.285343</td>\n",
       "      <td>56.224728</td>\n",
       "      <td>57.505250</td>\n",
       "      <td>...</td>\n",
       "      <td>58.832058</td>\n",
       "      <td>57.825634</td>\n",
       "      <td>59.115170</td>\n",
       "      <td>57.168310</td>\n",
       "      <td>57.053867</td>\n",
       "      <td>57.464123</td>\n",
       "      <td>56.489650</td>\n",
       "      <td>NaN</td>\n",
       "      <td>NaN</td>\n",
       "      <td>NaN</td>\n",
       "    </tr>\n",
       "    <tr>\n",
       "      <th>Algeria</th>\n",
       "      <td>25.794514</td>\n",
       "      <td>21.668524</td>\n",
       "      <td>22.524883</td>\n",
       "      <td>21.148638</td>\n",
       "      <td>26.094326</td>\n",
       "      <td>28.093613</td>\n",
       "      <td>29.121359</td>\n",
       "      <td>28.088581</td>\n",
       "      <td>26.146960</td>\n",
       "      <td>27.449507</td>\n",
       "      <td>...</td>\n",
       "      <td>25.715908</td>\n",
       "      <td>27.561977</td>\n",
       "      <td>26.658457</td>\n",
       "      <td>28.208338</td>\n",
       "      <td>30.883596</td>\n",
       "      <td>32.535194</td>\n",
       "      <td>32.628517</td>\n",
       "      <td>33.399155</td>\n",
       "      <td>35.804718</td>\n",
       "      <td>NaN</td>\n",
       "    </tr>\n",
       "    <tr>\n",
       "      <th>Andorra</th>\n",
       "      <td>15.397888</td>\n",
       "      <td>15.555239</td>\n",
       "      <td>15.046601</td>\n",
       "      <td>16.053387</td>\n",
       "      <td>16.933514</td>\n",
       "      <td>15.962100</td>\n",
       "      <td>17.888039</td>\n",
       "      <td>17.996744</td>\n",
       "      <td>15.578386</td>\n",
       "      <td>14.393357</td>\n",
       "      <td>...</td>\n",
       "      <td>13.563203</td>\n",
       "      <td>13.268412</td>\n",
       "      <td>12.671029</td>\n",
       "      <td>12.910532</td>\n",
       "      <td>12.377317</td>\n",
       "      <td>11.934806</td>\n",
       "      <td>12.246914</td>\n",
       "      <td>12.595785</td>\n",
       "      <td>10.925110</td>\n",
       "      <td>NaN</td>\n",
       "    </tr>\n",
       "    <tr>\n",
       "      <th>Angola</th>\n",
       "      <td>27.304688</td>\n",
       "      <td>45.091087</td>\n",
       "      <td>49.662052</td>\n",
       "      <td>48.510690</td>\n",
       "      <td>46.891098</td>\n",
       "      <td>42.332657</td>\n",
       "      <td>30.665700</td>\n",
       "      <td>28.383972</td>\n",
       "      <td>21.653238</td>\n",
       "      <td>15.508905</td>\n",
       "      <td>...</td>\n",
       "      <td>17.619177</td>\n",
       "      <td>21.349277</td>\n",
       "      <td>26.876167</td>\n",
       "      <td>33.523167</td>\n",
       "      <td>35.208930</td>\n",
       "      <td>34.121014</td>\n",
       "      <td>36.264200</td>\n",
       "      <td>37.887154</td>\n",
       "      <td>37.144620</td>\n",
       "      <td>NaN</td>\n",
       "    </tr>\n",
       "  </tbody>\n",
       "</table>\n",
       "<p>5 rows × 22 columns</p>\n",
       "</div>"
      ],
      "text/plain": [
       "Jahr              2000       2001       2002       2003       2004       2005  \\\n",
       "Land                                                                            \n",
       "Afghanistan        NaN        NaN  85.375600  86.069190  84.527590  78.970085   \n",
       "Albania      51.814300  49.128300  50.855670  47.601320  47.047787  48.436172   \n",
       "Algeria      25.794514  21.668524  22.524883  21.148638  26.094326  28.093613   \n",
       "Andorra      15.397888  15.555239  15.046601  16.053387  16.933514  15.962100   \n",
       "Angola       27.304688  45.091087  49.662052  48.510690  46.891098  42.332657   \n",
       "\n",
       "Jahr              2006       2007       2008       2009  ...       2012  \\\n",
       "Land                                                     ...              \n",
       "Afghanistan  76.824974  78.169980  75.403390  72.779240  ...  74.486206   \n",
       "Albania      48.580803  51.285343  56.224728  57.505250  ...  58.832058   \n",
       "Algeria      29.121359  28.088581  26.146960  27.449507  ...  25.715908   \n",
       "Andorra      17.888039  17.996744  15.578386  14.393357  ...  13.563203   \n",
       "Angola       30.665700  28.383972  21.653238  15.508905  ...  17.619177   \n",
       "\n",
       "Jahr              2013       2014       2015       2016       2017       2018  \\\n",
       "Land                                                                            \n",
       "Afghanistan  72.047860  73.055920  78.382290  75.974335  75.482580  76.223020   \n",
       "Albania      57.825634  59.115170  57.168310  57.053867  57.464123  56.489650   \n",
       "Algeria      27.561977  26.658457  28.208338  30.883596  32.535194  32.628517   \n",
       "Andorra      13.268412  12.671029  12.910532  12.377317  11.934806  12.246914   \n",
       "Angola       21.349277  26.876167  33.523167  35.208930  34.121014  36.264200   \n",
       "\n",
       "Jahr              2019       2020      2021  \n",
       "Land                                         \n",
       "Afghanistan  76.818370  74.813965  77.21405  \n",
       "Albania            NaN        NaN       NaN  \n",
       "Algeria      33.399155  35.804718       NaN  \n",
       "Andorra      12.595785  10.925110       NaN  \n",
       "Angola       37.887154  37.144620       NaN  \n",
       "\n",
       "[5 rows x 22 columns]"
      ]
     },
     "execution_count": 31,
     "metadata": {},
     "output_type": "execute_result"
    }
   ],
   "source": [
    "df2_pivot = df2.pivot(index=\"Land\", columns=\"Jahr\", values=\"Selbstgetragene Gesundheitsausgaben\")\n",
    "df2_pivot.head()"
   ]
  },
  {
   "cell_type": "code",
   "execution_count": 4,
   "metadata": {},
   "outputs": [
    {
     "name": "stdout",
     "output_type": "stream",
     "text": [
      "Anzahl Gebiete:  53\n"
     ]
    }
   ],
   "source": [
    "nCountries = len(df[\"Gebiet\"].unique())\n",
    "\n",
    "print(\"Anzahl Gebiete: \", nCountries)"
   ]
  },
  {
   "cell_type": "code",
   "execution_count": 32,
   "metadata": {},
   "outputs": [
    {
     "name": "stdout",
     "output_type": "stream",
     "text": [
      "Anzahl Länder Selbstgetragene Gesundheitsausgaben:  204\n"
     ]
    }
   ],
   "source": [
    "nCountries = len(df2[\"Land\"].unique())\n",
    "\n",
    "print(\"Anzahl Länder Selbstgetragene Gesundheitsausgaben: \", nCountries)"
   ]
  },
  {
   "cell_type": "code",
   "execution_count": 5,
   "metadata": {},
   "outputs": [
    {
     "name": "stdout",
     "output_type": "stream",
     "text": [
      "Anzahl Jahren:  68\n"
     ]
    }
   ],
   "source": [
    "nYears = len(df[\"Jahr\"].unique())\n",
    "\n",
    "print(\"Anzahl Jahren: \", nYears)"
   ]
  },
  {
   "cell_type": "code",
   "execution_count": 33,
   "metadata": {},
   "outputs": [
    {
     "name": "stdout",
     "output_type": "stream",
     "text": [
      "Anzahl Jahren Selbstgetragene Gesundheitsausgaben:  22\n"
     ]
    }
   ],
   "source": [
    "nYears = len(df2[\"Jahr\"].unique())\n",
    "\n",
    "print(\"Anzahl Jahren Selbstgetragene Gesundheitsausgaben: \", nYears)"
   ]
  },
  {
   "cell_type": "code",
   "execution_count": 6,
   "metadata": {},
   "outputs": [
    {
     "data": {
      "text/plain": [
       "Gebiet                            object\n",
       "Code                              object\n",
       "Jahr                               int64\n",
       "public-health-expenditure-gdp    float64\n",
       "dtype: object"
      ]
     },
     "execution_count": 6,
     "metadata": {},
     "output_type": "execute_result"
    }
   ],
   "source": [
    "df.dtypes"
   ]
  },
  {
   "cell_type": "code",
   "execution_count": 34,
   "metadata": {},
   "outputs": [
    {
     "data": {
      "text/plain": [
       "Land                                    object\n",
       "Code2                                   object\n",
       "Jahr                                     int64\n",
       "Selbstgetragene Gesundheitsausgaben    float64\n",
       "dtype: object"
      ]
     },
     "execution_count": 34,
     "metadata": {},
     "output_type": "execute_result"
    }
   ],
   "source": [
    "df2.dtypes"
   ]
  },
  {
   "cell_type": "code",
   "execution_count": 7,
   "metadata": {},
   "outputs": [
    {
     "name": "stdout",
     "output_type": "stream",
     "text": [
      "Anzahl) verschiedener Gebiete:  53\n"
     ]
    }
   ],
   "source": [
    "print('Anzahl) verschiedener Gebiete: ', len(df['Gebiet'].unique()))"
   ]
  },
  {
   "cell_type": "code",
   "execution_count": 35,
   "metadata": {},
   "outputs": [
    {
     "data": {
      "text/plain": [
       "Land\n",
       "South Korea    22\n",
       "Ireland        22\n",
       "Philippines    22\n",
       "Canada         22\n",
       "Luxembourg     22\n",
       "               ..\n",
       "Syria          13\n",
       "Libya          12\n",
       "Zimbabwe       11\n",
       "Montenegro     10\n",
       "South Sudan     4\n",
       "Name: count, Length: 204, dtype: int64"
      ]
     },
     "execution_count": 35,
     "metadata": {},
     "output_type": "execute_result"
    }
   ],
   "source": [
    "df2['Land'].value_counts()"
   ]
  },
  {
   "cell_type": "code",
   "execution_count": 8,
   "metadata": {},
   "outputs": [
    {
     "data": {
      "text/plain": [
       "Gebiet\n",
       "Italy              68\n",
       "Denmark            68\n",
       "United Kingdom     68\n",
       "Austria            68\n",
       "Sweden             68\n",
       "Norway             68\n",
       "Canada             68\n",
       "New Zealand        67\n",
       "Netherlands        67\n",
       "Japan              67\n",
       "Greece             67\n",
       "Germany            67\n",
       "France             67\n",
       "Finland            67\n",
       "United States      67\n",
       "Australia          67\n",
       "Belgium            67\n",
       "Switzerland        66\n",
       "Ireland            63\n",
       "Iceland            62\n",
       "Portugal           62\n",
       "Spain              61\n",
       "Turkey             59\n",
       "South Korea        52\n",
       "Luxembourg         46\n",
       "Poland             32\n",
       "Czechia            31\n",
       "Hungary            31\n",
       "Israel             26\n",
       "Slovakia           24\n",
       "Estonia            23\n",
       "Mexico             22\n",
       "Chile              22\n",
       "Lithuania          22\n",
       "Costa Rica         21\n",
       "Latvia             21\n",
       "Colombia           21\n",
       "Slovenia           21\n",
       "China              20\n",
       "India              20\n",
       "Brazil             20\n",
       "Peru               20\n",
       "South Africa       20\n",
       "Argentina          20\n",
       "Bulgaria           18\n",
       "Romania            18\n",
       "Malta              17\n",
       "Croatia            16\n",
       "Cyprus             16\n",
       "North Macedonia    10\n",
       "Serbia             10\n",
       "Montenegro          9\n",
       "Albania             9\n",
       "Name: count, dtype: int64"
      ]
     },
     "execution_count": 8,
     "metadata": {},
     "output_type": "execute_result"
    }
   ],
   "source": [
    "df['Gebiet'].value_counts()"
   ]
  },
  {
   "cell_type": "code",
   "execution_count": 9,
   "metadata": {},
   "outputs": [
    {
     "data": {
      "text/plain": [
       "<Axes: title={'center': 'Anzahl Datenpunkte pro Gebiet'}, xlabel='Gebiet', ylabel='Anzahl Datenpunkte'>"
      ]
     },
     "execution_count": 9,
     "metadata": {},
     "output_type": "execute_result"
    },
    {
     "data": {
      "image/png": "[encoded data removed]",
      "text/plain": [
       "<Figure size 640x480 with 1 Axes>"
      ]
     },
     "metadata": {},
     "output_type": "display_data"
    }
   ],
   "source": [
    "df['Gebiet'].value_counts().plot(kind='bar', \n",
    "                                 xticks=[ ], \n",
    "                                 ylabel= 'Anzahl Datenpunkte', title='Anzahl Datenpunkte pro Gebiet')"
   ]
  },
  {
   "cell_type": "code",
   "execution_count": 10,
   "metadata": {},
   "outputs": [
    {
     "name": "stdout",
     "output_type": "stream",
     "text": [
      "Anzahl verschiedener Codes:  53\n"
     ]
    }
   ],
   "source": [
    "print('Anzahl verschiedener Codes: ' , len(df['Code'].unique()))"
   ]
  },
  {
   "cell_type": "code",
   "execution_count": 11,
   "metadata": {},
   "outputs": [
    {
     "data": {
      "text/plain": [
       "Code\n",
       "ITA    68\n",
       "DNK    68\n",
       "GBR    68\n",
       "AUT    68\n",
       "SWE    68\n",
       "NOR    68\n",
       "CAN    68\n",
       "NZL    67\n",
       "NLD    67\n",
       "JPN    67\n",
       "GRC    67\n",
       "DEU    67\n",
       "FRA    67\n",
       "FIN    67\n",
       "USA    67\n",
       "AUS    67\n",
       "BEL    67\n",
       "CHE    66\n",
       "IRL    63\n",
       "ISL    62\n",
       "PRT    62\n",
       "ESP    61\n",
       "TUR    59\n",
       "KOR    52\n",
       "LUX    46\n",
       "POL    32\n",
       "CZE    31\n",
       "HUN    31\n",
       "ISR    26\n",
       "SVK    24\n",
       "EST    23\n",
       "MEX    22\n",
       "CHL    22\n",
       "LTU    22\n",
       "CRI    21\n",
       "LVA    21\n",
       "COL    21\n",
       "SVN    21\n",
       "CHN    20\n",
       "IND    20\n",
       "BRA    20\n",
       "PER    20\n",
       "ZAF    20\n",
       "ARG    20\n",
       "BGR    18\n",
       "ROU    18\n",
       "MLT    17\n",
       "HRV    16\n",
       "CYP    16\n",
       "MKD    10\n",
       "SRB    10\n",
       "MNE     9\n",
       "ALB     9\n",
       "Name: count, dtype: int64"
      ]
     },
     "execution_count": 11,
     "metadata": {},
     "output_type": "execute_result"
    }
   ],
   "source": [
    "df['Code'].value_counts()"
   ]
  },
  {
   "cell_type": "code",
   "execution_count": 12,
   "metadata": {},
   "outputs": [
    {
     "data": {
      "text/plain": [
       "<Axes: title={'center': 'Anzahl Datenpunkte pro Code'}, xlabel='Code', ylabel='Anzahl Datenpunkte'>"
      ]
     },
     "execution_count": 12,
     "metadata": {},
     "output_type": "execute_result"
    },
    {
     "data": {
      "image/png": "[encoded data removed]",
      "text/plain": [
       "<Figure size 640x480 with 1 Axes>"
      ]
     },
     "metadata": {},
     "output_type": "display_data"
    }
   ],
   "source": [
    "df['Code'].value_counts().plot(kind='bar', \n",
    "                                 xticks=[ ], \n",
    "                                 ylabel= 'Anzahl Datenpunkte', title='Anzahl Datenpunkte pro Code')"
   ]
  },
  {
   "cell_type": "code",
   "execution_count": 13,
   "metadata": {},
   "outputs": [
    {
     "name": "stdout",
     "output_type": "stream",
     "text": [
      "Anzahl verschiedene Jahren:  68\n"
     ]
    }
   ],
   "source": [
    "print('Anzahl verschiedene Jahren: ', len(df['Jahr'].unique()))"
   ]
  },
  {
   "cell_type": "code",
   "execution_count": 18,
   "metadata": {},
   "outputs": [
    {
     "data": {
      "text/plain": [
       "<bound method Series.sort_index of Jahr\n",
       "2012    53\n",
       "2013    53\n",
       "2014    53\n",
       "2015    53\n",
       "2016    53\n",
       "        ..\n",
       "1890    18\n",
       "1880    18\n",
       "1920    17\n",
       "1910    17\n",
       "2021    17\n",
       "Name: count, Length: 68, dtype: int64>"
      ]
     },
     "execution_count": 18,
     "metadata": {},
     "output_type": "execute_result"
    }
   ],
   "source": [
    "df['Jahr'].value_counts().sort_index "
   ]
  },
  {
   "cell_type": "code",
   "execution_count": 17,
   "metadata": {},
   "outputs": [
    {
     "data": {
      "text/plain": [
       "<matplotlib.legend.Legend at 0x13e3ef6e0>"
      ]
     },
     "execution_count": 17,
     "metadata": {},
     "output_type": "execute_result"
    },
    {
     "data": {
      "image/png": "[encoded data removed]",
      "text/plain": [
       "<Figure size 640x480 with 1 Axes>"
      ]
     },
     "metadata": {},
     "output_type": "display_data"
    }
   ],
   "source": [
    "g = df['Jahr'].value_counts().sort_index().plot(ylabel='Anzahl Datenpunkte', title='Anzahl Datenpuntkte pro Jahr')\n",
    "g.axvline(x=1950, color='red', label='1950')\n",
    "g.legend()"
   ]
  },
  {
   "cell_type": "code",
   "execution_count": 15,
   "metadata": {},
   "outputs": [
    {
     "data": {
      "text/html": [
       "<div>\n",
       "<style scoped>\n",
       "    .dataframe tbody tr th:only-of-type {\n",
       "        vertical-align: middle;\n",
       "    }\n",
       "\n",
       "    .dataframe tbody tr th {\n",
       "        vertical-align: top;\n",
       "    }\n",
       "\n",
       "    .dataframe thead th {\n",
       "        text-align: right;\n",
       "    }\n",
       "</style>\n",
       "<table border=\"1\" class=\"dataframe\">\n",
       "  <thead>\n",
       "    <tr style=\"text-align: right;\">\n",
       "      <th></th>\n",
       "      <th>Jahr</th>\n",
       "      <th>public-health-expenditure-gdp</th>\n",
       "    </tr>\n",
       "  </thead>\n",
       "  <tbody>\n",
       "    <tr>\n",
       "      <th>count</th>\n",
       "      <td>2177.000000</td>\n",
       "      <td>2177.000000</td>\n",
       "    </tr>\n",
       "    <tr>\n",
       "      <th>mean</th>\n",
       "      <td>1991.327515</td>\n",
       "      <td>4.627465</td>\n",
       "    </tr>\n",
       "    <tr>\n",
       "      <th>std</th>\n",
       "      <td>26.330405</td>\n",
       "      <td>2.218401</td>\n",
       "    </tr>\n",
       "    <tr>\n",
       "      <th>min</th>\n",
       "      <td>1880.000000</td>\n",
       "      <td>0.000000</td>\n",
       "    </tr>\n",
       "    <tr>\n",
       "      <th>25%</th>\n",
       "      <td>1978.000000</td>\n",
       "      <td>3.246000</td>\n",
       "    </tr>\n",
       "    <tr>\n",
       "      <th>50%</th>\n",
       "      <td>1999.000000</td>\n",
       "      <td>4.712000</td>\n",
       "    </tr>\n",
       "    <tr>\n",
       "      <th>75%</th>\n",
       "      <td>2010.000000</td>\n",
       "      <td>6.029000</td>\n",
       "    </tr>\n",
       "    <tr>\n",
       "      <th>max</th>\n",
       "      <td>2021.000000</td>\n",
       "      <td>15.949000</td>\n",
       "    </tr>\n",
       "  </tbody>\n",
       "</table>\n",
       "</div>"
      ],
      "text/plain": [
       "              Jahr  public-health-expenditure-gdp\n",
       "count  2177.000000                    2177.000000\n",
       "mean   1991.327515                       4.627465\n",
       "std      26.330405                       2.218401\n",
       "min    1880.000000                       0.000000\n",
       "25%    1978.000000                       3.246000\n",
       "50%    1999.000000                       4.712000\n",
       "75%    2010.000000                       6.029000\n",
       "max    2021.000000                      15.949000"
      ]
     },
     "execution_count": 15,
     "metadata": {},
     "output_type": "execute_result"
    }
   ],
   "source": [
    "df.describe()"
   ]
  },
  {
   "cell_type": "code",
   "execution_count": 58,
   "metadata": {},
   "outputs": [
    {
     "data": {
      "image/png": "[encoded data removed]",
      "text/plain": [
       "<Figure size 640x480 with 1 Axes>"
      ]
     },
     "metadata": {},
     "output_type": "display_data"
    }
   ],
   "source": [
    "g = df['public-health-expenditure-gdp'].plot(kind='hist', bins=20, title='Histogramm der Gesundheitsausgaben', \n",
    "                                             xlabel='Gesundheitsausgaben', ylabel='Anzahl der Länder')\n",
    "mean = df['public-health-expenditure-gdp'].mean()\n",
    "median = df['public-health-expenditure-gdp'].median()\n",
    "g.axvline(x=mean, color='black', label=f'Mittelwert = {mean:.2f}')\n",
    "g.axvline(x=median, color='yellow', label=f'Median = {median:.2f}')\n",
    "g.legend()\n",
    "plt.show()"
   ]
  },
  {
   "cell_type": "code",
   "execution_count": 38,
   "metadata": {},
   "outputs": [
    {
     "data": {
      "text/html": [
       "<div>\n",
       "<style scoped>\n",
       "    .dataframe tbody tr th:only-of-type {\n",
       "        vertical-align: middle;\n",
       "    }\n",
       "\n",
       "    .dataframe tbody tr th {\n",
       "        vertical-align: top;\n",
       "    }\n",
       "\n",
       "    .dataframe thead th {\n",
       "        text-align: right;\n",
       "    }\n",
       "</style>\n",
       "<table border=\"1\" class=\"dataframe\">\n",
       "  <thead>\n",
       "    <tr style=\"text-align: right;\">\n",
       "      <th></th>\n",
       "      <th>Jahr</th>\n",
       "      <th>Selbstgetragene Gesundheitsausgaben</th>\n",
       "    </tr>\n",
       "  </thead>\n",
       "  <tbody>\n",
       "    <tr>\n",
       "      <th>count</th>\n",
       "      <td>4223.000000</td>\n",
       "      <td>4223.000000</td>\n",
       "    </tr>\n",
       "    <tr>\n",
       "      <th>mean</th>\n",
       "      <td>2010.036467</td>\n",
       "      <td>33.644061</td>\n",
       "    </tr>\n",
       "    <tr>\n",
       "      <th>std</th>\n",
       "      <td>6.059714</td>\n",
       "      <td>19.442344</td>\n",
       "    </tr>\n",
       "    <tr>\n",
       "      <th>min</th>\n",
       "      <td>2000.000000</td>\n",
       "      <td>0.080350</td>\n",
       "    </tr>\n",
       "    <tr>\n",
       "      <th>25%</th>\n",
       "      <td>2005.000000</td>\n",
       "      <td>16.885437</td>\n",
       "    </tr>\n",
       "    <tr>\n",
       "      <th>50%</th>\n",
       "      <td>2010.000000</td>\n",
       "      <td>31.515785</td>\n",
       "    </tr>\n",
       "    <tr>\n",
       "      <th>75%</th>\n",
       "      <td>2015.000000</td>\n",
       "      <td>47.637738</td>\n",
       "    </tr>\n",
       "    <tr>\n",
       "      <th>max</th>\n",
       "      <td>2021.000000</td>\n",
       "      <td>86.069190</td>\n",
       "    </tr>\n",
       "  </tbody>\n",
       "</table>\n",
       "</div>"
      ],
      "text/plain": [
       "              Jahr  Selbstgetragene Gesundheitsausgaben\n",
       "count  4223.000000                          4223.000000\n",
       "mean   2010.036467                            33.644061\n",
       "std       6.059714                            19.442344\n",
       "min    2000.000000                             0.080350\n",
       "25%    2005.000000                            16.885437\n",
       "50%    2010.000000                            31.515785\n",
       "75%    2015.000000                            47.637738\n",
       "max    2021.000000                            86.069190"
      ]
     },
     "execution_count": 38,
     "metadata": {},
     "output_type": "execute_result"
    }
   ],
   "source": [
    "df2.describe()"
   ]
  },
  {
   "cell_type": "code",
   "execution_count": 37,
   "metadata": {},
   "outputs": [
    {
     "data": {
      "text/plain": [
       "Gebiet\n",
       "Albania              NaN\n",
       "Argentina            NaN\n",
       "Australia            NaN\n",
       "Austria            2.603\n",
       "Belgium              NaN\n",
       "Brazil               NaN\n",
       "Bulgaria             NaN\n",
       "Canada             2.924\n",
       "Chile              2.082\n",
       "China                NaN\n",
       "Colombia             NaN\n",
       "Costa Rica           NaN\n",
       "Croatia              NaN\n",
       "Cyprus               NaN\n",
       "Czechia              NaN\n",
       "Denmark            2.529\n",
       "Estonia            1.886\n",
       "Finland              NaN\n",
       "France               NaN\n",
       "Germany            3.294\n",
       "Greece               NaN\n",
       "Hungary            0.582\n",
       "Iceland            0.871\n",
       "India                NaN\n",
       "Ireland            0.702\n",
       "Israel               NaN\n",
       "Italy              1.649\n",
       "Japan                NaN\n",
       "Latvia               NaN\n",
       "Lithuania          1.260\n",
       "Luxembourg           NaN\n",
       "Malta                NaN\n",
       "Mexico               NaN\n",
       "Montenegro           NaN\n",
       "Netherlands          NaN\n",
       "New Zealand          NaN\n",
       "North Macedonia      NaN\n",
       "Norway             2.326\n",
       "Peru                 NaN\n",
       "Poland             1.143\n",
       "Portugal           1.169\n",
       "Romania              NaN\n",
       "Serbia               NaN\n",
       "Slovakia             NaN\n",
       "Slovenia             NaN\n",
       "South Africa         NaN\n",
       "South Korea        3.585\n",
       "Spain                NaN\n",
       "Sweden             3.520\n",
       "Switzerland          NaN\n",
       "Turkey               NaN\n",
       "United Kingdom     4.422\n",
       "United States        NaN\n",
       "dtype: float64"
      ]
     },
     "execution_count": 37,
     "metadata": {},
     "output_type": "execute_result"
    }
   ],
   "source": [
    "diffs = df_pivot[2021]-df_pivot[2000]\n",
    "diff = diffs.sort_values().dropna()\n",
    "diffs"
   ]
  },
  {
   "cell_type": "code",
   "execution_count": 46,
   "metadata": {},
   "outputs": [
    {
     "data": {
      "text/plain": [
       "Land\n",
       "Afghanistan   NaN\n",
       "Albania       NaN\n",
       "Algeria       NaN\n",
       "Andorra       NaN\n",
       "Angola        NaN\n",
       "               ..\n",
       "Vietnam       NaN\n",
       "World         NaN\n",
       "Yemen         NaN\n",
       "Zambia        NaN\n",
       "Zimbabwe      NaN\n",
       "Length: 204, dtype: float64"
      ]
     },
     "execution_count": 46,
     "metadata": {},
     "output_type": "execute_result"
    }
   ],
   "source": [
    "diffs = df2_pivot[2021]-df2_pivot[2000]\n",
    "diff = diffs.sort_values().dropna()\n",
    "diffs"
   ]
  }
 ],
 "metadata": {
  "kernelspec": {
   "display_name": "base",
   "language": "python",
   "name": "python3"
  },
  "language_info": {
   "codemirror_mode": {
    "name": "ipython",
    "version": 3
   },
   "file_extension": ".py",
   "mimetype": "text/x-python",
   "name": "python",
   "nbconvert_exporter": "python",
   "pygments_lexer": "ipython3",
   "version": "3.12.4"
  }
 },
 "nbformat": 4,
 "nbformat_minor": 2
}
