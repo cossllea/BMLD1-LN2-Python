{
 "cells": [
  {
   "cell_type": "markdown",
   "metadata": {},
   "source": [
    "## Namen\n",
    "-Isla Ferris\n",
    "-Leah Cosslett\n",
    "-Ana Maria Andrade\n",
    "## Projektbeschreibung\n",
    "Dieses Projekt analysiert Gesundheitsausgaben anhand von zwei Datensätzen:\n",
    "1. **Selbstgetragene Gesundheitskosten:** Anteil der privaten Gesundheitsausgaben an den Gesamtausgaben.\n",
    "2. **Öffentliche Gesundheitsausgaben:** Anteil der öffentlichen Gesundheitsausgaben am GDP/BIP.\n",
    "\n",
    "Ziel ist es, Trends, Zusammenhänge und regionale Unterschiede in den Gesundheitsausgaben zu untersuchen.\n",
    "\n",
    "## Fragestellung\n",
    "1. -Gibt es eine inverse Beziehung zwischen öffentlichen Ausgaben und Out-of-Pocket-Ausgaben? \n",
    "2. -In welchen Ländern gibt es ein Gleichgewicht oder extreme Unterschiede?\n",
    "\n",
    "\n"
   ]
  }
 ],
 "metadata": {
  "kernelspec": {
   "display_name": "base",
   "language": "python",
   "name": "python3"
  },
  "language_info": {
   "codemirror_mode": {
    "name": "ipython",
    "version": 3
   },
   "file_extension": ".py",
   "mimetype": "text/x-python",
   "name": "python",
   "nbconvert_exporter": "python",
   "pygments_lexer": "ipython3",
   "version": "3.12.4"
  }
 },
 "nbformat": 4,
 "nbformat_minor": 2
}
